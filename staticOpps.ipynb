{
 "cells": [
  {
   "cell_type": "code",
   "execution_count": 29,
   "id": "69f8c3e4-e9d6-4958-8a9d-0df8e19591ba",
   "metadata": {},
   "outputs": [
    {
     "name": "stdout",
     "output_type": "stream",
     "text": [
      "hi i am  hemanth\n",
      "i amm studing btech\n",
      "my marks 25\n",
      "my college is aditya\n",
      "hi i am hemanth\n",
      "i am teaching english\n",
      "i am earning 1000\n",
      "iam working in aditya branch is bvrm\n"
     ]
    }
   ],
   "source": [
    "class university:\n",
    "    clgnam = 'aditya'\n",
    "    clgbrnch = 'bvrm'\n",
    "    def __init__(self):\n",
    "        self.name=\"hemanth\"\n",
    "        self.rollno=35\n",
    "        self.age=29\n",
    "        self.marks=25\n",
    "        self.cls=\"btech\"\n",
    "        self.subject=\"english\"\n",
    "        self.sarlary=1000\n",
    "    def student(self):\n",
    "        print(\"hi i am \",self.name)\n",
    "        print(\"i amm studing\",self.cls)\n",
    "        print(\"my marks\",self.marks)\n",
    "        print(\"my college is\",university.clgnam)\n",
    "    def facality(self):\n",
    "       print(\"hi i am\",self.name)\n",
    "       print(\"i am teaching\",self.subject)\n",
    "       print(\"i am earning\",self.sarlary)\n",
    "       print(\"iam working in\",university.clgnam,'branch is',university.clgbrnch)\n",
    "uni = university()\n",
    "uni.student()\n",
    "uni.facality()\n",
    "    "
   ]
  },
  {
   "cell_type": "code",
   "execution_count": null,
   "id": "ca52ce09-9b29-4b30-b505-545189b1de85",
   "metadata": {},
   "outputs": [],
   "source": []
  },
  {
   "cell_type": "code",
   "execution_count": 37,
   "id": "6f624141-4813-4c4d-b07f-e97ea7079b5e",
   "metadata": {},
   "outputs": [
    {
     "name": "stdout",
     "output_type": "stream",
     "text": [
      "hi i am  pavan\n",
      "i amm studing inter\n",
      "my marks 12\n",
      "my college is aditya\n",
      "hi i am pavan\n",
      "i am teaching social\n",
      "i am earning 100\n",
      "iam working in aditya branch is bvrm\n"
     ]
    }
   ],
   "source": [
    "class university:\n",
    "    clgnam = 'aditya'\n",
    "    clgbrnch = 'bvrm'\n",
    "    def __init__(self,n,r,a,m,c,s,sa):\n",
    "        self.name=n\n",
    "        self.rollno=r\n",
    "        self.age=a\n",
    "        self.marks=m\n",
    "        self.cls=c\n",
    "        self.subject=s\n",
    "        self.sarlary=sa\n",
    "    def student(self):\n",
    "        print(\"hi i am \",self.name)\n",
    "        print(\"i amm studing\",self.cls)\n",
    "        print(\"my marks\",self.marks)\n",
    "        print(\"my college is\",university.clgnam)\n",
    "    def facality(self):\n",
    "       print(\"hi i am\",self.name)\n",
    "       print(\"i am teaching\",self.subject)\n",
    "       print(\"i am earning\",self.sarlary)\n",
    "       print(\"iam working in\",university.clgnam,'branch is',university.clgbrnch)\n",
    "\n",
    "\n",
    "unit=university(\"pavan\",24,34,12,\"inter\",\"social\",100)\n",
    "unit.student()\n",
    "unit.facality()"
   ]
  },
  {
   "cell_type": "code",
   "execution_count": 40,
   "id": "4e158b7b-2c2d-414b-a1eb-b5674bc8f7be",
   "metadata": {},
   "outputs": [
    {
     "name": "stdout",
     "output_type": "stream",
     "text": [
      "hi i am  hemant\n",
      "i amm studing 9th\n",
      "my marks 5\n",
      "my college is aditya\n",
      "hi i am pavan\n",
      "i am teaching social\n",
      "i am earning 100\n",
      "iam working in aditya branch is bvrm\n"
     ]
    }
   ],
   "source": [
    "unit1=university(\"hemant\",34,27,5,\"9th\",\"maths\",5)\n",
    "unit1.student()\n",
    "unit.facality()"
   ]
  },
  {
   "cell_type": "code",
   "execution_count": 41,
   "id": "0c495b16-ce8f-496f-ad95-75d138211115",
   "metadata": {},
   "outputs": [
    {
     "name": "stdout",
     "output_type": "stream",
     "text": [
      "{'name': 'hemanth', 'rollno': 35, 'age': 29, 'marks': 25, 'cls': 'btech', 'subject': 'english', 'sarlary': 1000}\n"
     ]
    }
   ],
   "source": [
    "print(uni.__dict__)"
   ]
  },
  {
   "cell_type": "code",
   "execution_count": 42,
   "id": "688b9228-a038-480d-96b2-0bf53afe4b84",
   "metadata": {},
   "outputs": [
    {
     "name": "stdout",
     "output_type": "stream",
     "text": [
      "{'__module__': '__main__', 'clgnam': 'aditya', 'clgbrnch': 'bvrm', '__init__': <function university.__init__ at 0x000001E5D3BEE200>, 'student': <function university.student at 0x000001E5D3BED580>, 'facality': <function university.facality at 0x000001E5D3BEE160>, '__dict__': <attribute '__dict__' of 'university' objects>, '__weakref__': <attribute '__weakref__' of 'university' objects>, '__doc__': None}\n"
     ]
    }
   ],
   "source": [
    "print(university.__dict__)"
   ]
  },
  {
   "cell_type": "code",
   "execution_count": null,
   "id": "b8ddc64c-2711-40b2-bbcb-cef40cf8b777",
   "metadata": {},
   "outputs": [],
   "source": [
    "\n",
    "\n",
    "\n"
   ]
  }
 ],
 "metadata": {
  "kernelspec": {
   "display_name": "Python 3 (ipykernel)",
   "language": "python",
   "name": "python3"
  },
  "language_info": {
   "codemirror_mode": {
    "name": "ipython",
    "version": 3
   },
   "file_extension": ".py",
   "mimetype": "text/x-python",
   "name": "python",
   "nbconvert_exporter": "python",
   "pygments_lexer": "ipython3",
   "version": "3.11.5"
  }
 },
 "nbformat": 4,
 "nbformat_minor": 5
}
