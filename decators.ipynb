{
 "cells": [
  {
   "cell_type": "code",
   "execution_count": 13,
   "id": "4bcaa1bb-d170-4b3d-bfa7-4a86eec5d087",
   "metadata": {},
   "outputs": [],
   "source": [
    "@dec\n",
    "def sub(a,b):\n",
    "    x=a-b\n",
    "    print(x)"
   ]
  },
  {
   "cell_type": "code",
   "execution_count": 16,
   "id": "aa11e0cb-bd83-4c6b-a753-194abc4b5a89",
   "metadata": {},
   "outputs": [
    {
     "name": "stdout",
     "output_type": "stream",
     "text": [
      "a is  50\n",
      "b is  4\n",
      "46\n"
     ]
    }
   ],
   "source": [
    "sub(50,4)"
   ]
  },
  {
   "cell_type": "code",
   "execution_count": 15,
   "id": "f54dabe4-86e8-4e59-af94-6d570a0dbd3c",
   "metadata": {},
   "outputs": [],
   "source": [
    "def dec(sub):\n",
    "    def inside(a,b):\n",
    "        print(\"a is \",a)\n",
    "        print(\"b is \",b)\n",
    "    \n",
    "    return inside    \n",
    "    "
   ]
  },
  {
   "cell_type": "code",
   "execution_count": 65,
   "id": "2a30d6f3-e4b6-4844-8e42-457be4f4dfab",
   "metadata": {},
   "outputs": [],
   "source": [
    "@dect\n",
    "def mut(c,e):\n",
    "    y=c*e\n",
    "    print(y)"
   ]
  },
  {
   "cell_type": "code",
   "execution_count": 66,
   "id": "3524f32f-649e-468b-9cc2-83a0e135c945",
   "metadata": {},
   "outputs": [
    {
     "name": "stdout",
     "output_type": "stream",
     "text": [
      "c value 2\n",
      "e value 4\n",
      "8\n"
     ]
    }
   ],
   "source": [
    "mut(2,4)"
   ]
  },
  {
   "cell_type": "code",
   "execution_count": 64,
   "id": "0eb2a309-1ba4-4108-89f6-875fdf7a1dd5",
   "metadata": {},
   "outputs": [],
   "source": [
    "def dect(mut):\n",
    "    def inner(c,e):\n",
    "        print(\"c value\",c)\n",
    "        print(\"e value\",e)\n",
    "        print(c*e)\n",
    "        \n",
    "    return inner"
   ]
  },
  {
   "cell_type": "code",
   "execution_count": 56,
   "id": "f644a91f-13ab-4ec4-a7c9-3861bea0e3f6",
   "metadata": {},
   "outputs": [
    {
     "name": "stdout",
     "output_type": "stream",
     "text": [
      "c value 4\n",
      "e value 10\n"
     ]
    }
   ],
   "source": [
    "mut(4,10)"
   ]
  },
  {
   "cell_type": "code",
   "execution_count": 41,
   "id": "239634ee-f617-4ed3-a40b-9075338b075f",
   "metadata": {},
   "outputs": [
    {
     "name": "stdout",
     "output_type": "stream",
     "text": [
      "power coating is done..\n",
      "car wiring is done..\n",
      "car doors are fixed..\n",
      "engine is installed..\n",
      "car chasis is ready\n"
     ]
    }
   ],
   "source": [
    "def assemble(func):\n",
    "    def inner(part):\n",
    "        print(\"power coating is done..\")\n",
    "        print(\"car wiring is done..\")\n",
    "        print(\"car doors are fixed..\")\n",
    "        print(\"engine is installed..\")\n",
    "        func(part)\n",
    "    return inner    \n",
    "\n",
    "@assemble\n",
    "def car(part):\n",
    "    print(\"car\",part,\"is ready\")\n",
    "\n",
    "car(\"chasis\")"
   ]
  },
  {
   "cell_type": "code",
   "execution_count": null,
   "id": "7e76d876-c0eb-4f1a-b18f-c189928cdfe7",
   "metadata": {},
   "outputs": [],
   "source": []
  },
  {
   "cell_type": "code",
   "execution_count": 67,
   "id": "aeb2c343-43f7-484c-9c91-3aa236ad718c",
   "metadata": {},
   "outputs": [
    {
     "name": "stdout",
     "output_type": "stream",
     "text": [
      "first value 20\n",
      "second value 2\n",
      "addition of two values: 22\n"
     ]
    }
   ],
   "source": [
    "def elobarate(cc):\n",
    "    def inner(a,b):\n",
    "        print(\"first value\",a)\n",
    "        print(\"second value\",b)\n",
    "        print(\"addition of two values:\",a+b)\n",
    "    return inner\n",
    "\n",
    "@elobarate\n",
    "def add(a,b):\n",
    "    print(a+b)\n",
    "    \n",
    "add(20,2)"
   ]
  },
  {
   "cell_type": "code",
   "execution_count": 81,
   "id": "612b3694-18d8-48ca-8472-a5055d97e8a2",
   "metadata": {},
   "outputs": [],
   "source": [
    "@bus_dec\n",
    "def bus(part):\n",
    "    print('bus',part,'is ready')"
   ]
  },
  {
   "cell_type": "code",
   "execution_count": 82,
   "id": "acbdec47-a593-464d-a867-4d523478a447",
   "metadata": {},
   "outputs": [
    {
     "name": "stdout",
     "output_type": "stream",
     "text": [
      "painting is ready\n",
      "bus ready\n",
      "bus door is ready\n"
     ]
    }
   ],
   "source": [
    "bus(\"door\")"
   ]
  },
  {
   "cell_type": "code",
   "execution_count": 80,
   "id": "197255bf-b9a0-4b2e-a6c6-25955055720f",
   "metadata": {},
   "outputs": [],
   "source": [
    "def bus_dec(x):\n",
    "    def carspart(part):\n",
    "        print(\"painting is ready\")\n",
    "        print(\"bus ready\")\n",
    "        print('bus',part,'is ready')\n",
    "    return carspart"
   ]
  },
  {
   "cell_type": "code",
   "execution_count": 93,
   "id": "4cc930bf-4850-467b-939a-6e93253856ba",
   "metadata": {},
   "outputs": [],
   "source": [
    "@decor_name\n",
    "def wish(name):      #ex2\n",
    "    print(\"hi\",name,\"Good morning..\")\n"
   ]
  },
  {
   "cell_type": "code",
   "execution_count": 94,
   "id": "22441903-8791-4eac-9056-8ff122b58af8",
   "metadata": {},
   "outputs": [],
   "source": [
    "def decor_name(func):\n",
    "    def inner(name):\n",
    "        if name==\"naidu\":\n",
    "            print(\"Hello\",name, \"How are you???\")\n",
    "            print(\"you're authorized person\")\n",
    "            print(\"you are allowed to enter into strong room\")\n",
    "        else:\n",
    "            func(name)\n",
    "    return inner"
   ]
  },
  {
   "cell_type": "code",
   "execution_count": 89,
   "id": "c5dcb7b1-875e-47a5-aed6-1d824820afc3",
   "metadata": {},
   "outputs": [
    {
     "name": "stdout",
     "output_type": "stream",
     "text": [
      "hi hemanth Good morning..\n"
     ]
    }
   ],
   "source": [
    "wish(\"hemanth\")"
   ]
  },
  {
   "cell_type": "code",
   "execution_count": 91,
   "id": "4bc33e17-e5bc-4010-a8e0-91ae3c95439c",
   "metadata": {},
   "outputs": [
    {
     "name": "stdout",
     "output_type": "stream",
     "text": [
      "hi naidu Good morning..\n"
     ]
    }
   ],
   "source": [
    "wish(\"naidu\")"
   ]
  },
  {
   "cell_type": "code",
   "execution_count": 95,
   "id": "85edbddb-8b82-48f8-8eed-96b5d6b63f2c",
   "metadata": {},
   "outputs": [
    {
     "name": "stdout",
     "output_type": "stream",
     "text": [
      "Hello naidu How are you???\n",
      "you're authorized person\n",
      "you are allowed to enter into strong room\n"
     ]
    }
   ],
   "source": [
    "wish(\"naidu\")"
   ]
  },
  {
   "cell_type": "code",
   "execution_count": null,
   "id": "d5b92cd8-31e2-46bd-a753-fb5f5e76a858",
   "metadata": {},
   "outputs": [],
   "source": []
  },
  {
   "cell_type": "code",
   "execution_count": 108,
   "id": "484d9821-d6d8-4edb-b731-71f9df3b625c",
   "metadata": {},
   "outputs": [
    {
     "name": "stdout",
     "output_type": "stream",
     "text": [
      "hi hemanth please enter your name\n",
      "hi good morning\n",
      "you can enter into the room\n"
     ]
    }
   ],
   "source": [
    "#decor\n",
    "@authentication\n",
    "def login(name):\n",
    "    print(\"hi\",name,\"please enter your name\")\n",
    "login(\"hemanth\")"
   ]
  },
  {
   "cell_type": "code",
   "execution_count": 107,
   "id": "692ae9b8-cd6a-44d0-bd68-804c7cecacce",
   "metadata": {},
   "outputs": [],
   "source": [
    "def authentication(func):\n",
    "    def inner(name):\n",
    "        if name==\"hemanth\":\n",
    "            func(name)\n",
    "            print(\"hi good morning\".format(name))\n",
    "            print(\"you can enter into the room\")\n",
    "        else:\n",
    "            func(name)\n",
    "            print(\"unauthorised access denied sorry try again\")\n",
    "    return inner"
   ]
  },
  {
   "cell_type": "code",
   "execution_count": 109,
   "id": "11cfd2bd-efe3-40cb-9dfd-dd90b70e6bff",
   "metadata": {},
   "outputs": [
    {
     "name": "stdout",
     "output_type": "stream",
     "text": [
      "hi hemanth please enter your name\n",
      "hi good morning\n",
      "you can enter into the room\n"
     ]
    }
   ],
   "source": [
    "login(\"hemanth\")"
   ]
  },
  {
   "cell_type": "code",
   "execution_count": 110,
   "id": "fecaa070-17ec-44c5-be25-c0295ea387a5",
   "metadata": {},
   "outputs": [
    {
     "name": "stdout",
     "output_type": "stream",
     "text": [
      "hi pavan please enter your name\n",
      "unauthorised access denied sorry try again\n"
     ]
    }
   ],
   "source": [
    "login(\"pavan\")"
   ]
  },
  {
   "cell_type": "code",
   "execution_count": null,
   "id": "56ebadfa-aae9-45a0-b998-07f24d4ef620",
   "metadata": {},
   "outputs": [],
   "source": []
  }
 ],
 "metadata": {
  "kernelspec": {
   "display_name": "Python 3 (ipykernel)",
   "language": "python",
   "name": "python3"
  },
  "language_info": {
   "codemirror_mode": {
    "name": "ipython",
    "version": 3
   },
   "file_extension": ".py",
   "mimetype": "text/x-python",
   "name": "python",
   "nbconvert_exporter": "python",
   "pygments_lexer": "ipython3",
   "version": "3.11.5"
  }
 },
 "nbformat": 4,
 "nbformat_minor": 5
}
