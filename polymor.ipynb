{
 "cells": [
  {
   "cell_type": "code",
   "execution_count": 1,
   "id": "97723190-8336-4125-8a19-286f143d3fda",
   "metadata": {},
   "outputs": [
    {
     "name": "stdout",
     "output_type": "stream",
     "text": [
      "bow\n",
      "quauk\n",
      "Meow\n",
      "may\n"
     ]
    }
   ],
   "source": [
    "class Dog:\n",
    "    def talk(self):\n",
    "        print(\"bow\")\n",
    "        \n",
    "class Duck:\n",
    "    def talk(self):\n",
    "        print(\"quauk\")\n",
    "        \n",
    "class Cat:\n",
    "    def talk(self):\n",
    "        print(\"Meow\")\n",
    "        \n",
    "class Goat:\n",
    "    def talk(self):\n",
    "        print(\"may\")\n",
    "        \n",
    "def f1(obj):\n",
    "    obj.talk()\n",
    "    \n",
    "d=[ Dog(),Duck(), Cat(), Goat()]\n",
    "for k in d:\n",
    "   f1(k)"
   ]
  },
  {
   "cell_type": "code",
   "execution_count": 3,
   "id": "2c6f5baf-9d44-403f-af5e-219b3c75015a",
   "metadata": {},
   "outputs": [
    {
     "name": "stdout",
     "output_type": "stream",
     "text": [
      "500\n"
     ]
    }
   ],
   "source": [
    "class Book:\n",
    "    def __init__(self,pages):\n",
    "        self.pages=pages\n",
    "    \n",
    "    def __add__(self,other):\n",
    "        return self.pages+other.pages      \n",
    "c1=Book(200)\n",
    "c2=Book(300)\n",
    "print(c1+c2)"
   ]
  },
  {
   "cell_type": "code",
   "execution_count": null,
   "id": "762cf9e9-5212-4ea3-aac3-6c7c7ea1c366",
   "metadata": {},
   "outputs": [],
   "source": []
  }
 ],
 "metadata": {
  "kernelspec": {
   "display_name": "Python 3 (ipykernel)",
   "language": "python",
   "name": "python3"
  },
  "language_info": {
   "codemirror_mode": {
    "name": "ipython",
    "version": 3
   },
   "file_extension": ".py",
   "mimetype": "text/x-python",
   "name": "python",
   "nbconvert_exporter": "python",
   "pygments_lexer": "ipython3",
   "version": "3.11.5"
  }
 },
 "nbformat": 4,
 "nbformat_minor": 5
}
