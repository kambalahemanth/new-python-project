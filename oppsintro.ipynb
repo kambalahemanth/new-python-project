{
 "cells": [
  {
   "cell_type": "code",
   "execution_count": 16,
   "id": "75fc3177-2755-4698-abe3-b7d88a4cd6e6",
   "metadata": {},
   "outputs": [
    {
     "data": {
      "text/plain": [
       "77"
      ]
     },
     "execution_count": 16,
     "metadata": {},
     "output_type": "execute_result"
    }
   ],
   "source": [
    "a = 10 \n",
    "b = 20 \n",
    "a + b\n",
    "\n",
    "\n",
    "def add(a,b):\n",
    "    return a+b\n",
    "add(33,44)\n",
    "\n"
   ]
  },
  {
   "cell_type": "code",
   "execution_count": 24,
   "id": "f72d328a-6587-4941-900d-fc5bed16da4a",
   "metadata": {},
   "outputs": [
    {
     "name": "stdout",
     "output_type": "stream",
     "text": [
      "hi hemanth\n",
      "hi hemanth\n",
      "hi hemanth\n",
      "70\n"
     ]
    }
   ],
   "source": [
    "#1,properties__>>> with in the construter we can declar varibales,\n",
    "#2,methods___>>> logic\n",
    "\n",
    "class python:\n",
    "    \"\"\"python trader contains trade details of a trader\"\"\"\n",
    "    def __init__(self):\n",
    "        self.name=\"hemanth\"\n",
    "        self.age=29\n",
    "        self.qual=\"btech\"\n",
    "        self.a = 30\n",
    "        self.b = 40\n",
    "        \n",
    "        \n",
    "    def details(self):\n",
    "        print(\"hi \",self.name)\n",
    "        print(\"my age is:\",self.age)\n",
    "        print(\"I'VE DONE MY\",self.qual)\n",
    "    def add(self):\n",
    "        print (self.a+self.b)\n",
    "      \n",
    "p = python()\n",
    "p1 = python()\n",
    "p3 = python()\n",
    "p3.add()"
   ]
  },
  {
   "cell_type": "code",
   "execution_count": 21,
   "id": "b2d33661-54d5-4d41-8838-7df01a6a6b4d",
   "metadata": {},
   "outputs": [
    {
     "name": "stdout",
     "output_type": "stream",
     "text": [
      "hi  hemanth\n",
      "my age is: 29\n",
      "I'VE DONE MY btech\n"
     ]
    }
   ],
   "source": [
    "p.details()"
   ]
  },
  {
   "cell_type": "code",
   "execution_count": 22,
   "id": "d8b8002e-2d15-4479-a589-157ac0e359d9",
   "metadata": {},
   "outputs": [
    {
     "name": "stdout",
     "output_type": "stream",
     "text": [
      "70\n"
     ]
    }
   ],
   "source": [
    "p.add()"
   ]
  },
  {
   "cell_type": "code",
   "execution_count": 25,
   "id": "210e78ab-64af-405f-a70f-96624566f283",
   "metadata": {},
   "outputs": [
    {
     "name": "stdout",
     "output_type": "stream",
     "text": [
      "hemanth 29 cse\n",
      "naidu 28 Cse\n"
     ]
    }
   ],
   "source": [
    "class Student:\n",
    "    def __init__(self,x,y,z):\n",
    "        self.name=x\n",
    "        self.age=y\n",
    "        self.qual=z\n",
    "        \n",
    "s1=Student(\"hemanth\",29,\"cse\")\n",
    "print(s1.name,s1.age,s1.qual)\n",
    "\n",
    "s2=Student(\"naidu\",28,\"Cse\")\n",
    "print(s2.name,s2.age,s2.qual)"
   ]
  },
  {
   "cell_type": "code",
   "execution_count": null,
   "id": "3435b785-23b4-4418-ab5d-0b74f332e25c",
   "metadata": {},
   "outputs": [],
   "source": []
  }
 ],
 "metadata": {
  "kernelspec": {
   "display_name": "Python 3 (ipykernel)",
   "language": "python",
   "name": "python3"
  },
  "language_info": {
   "codemirror_mode": {
    "name": "ipython",
    "version": 3
   },
   "file_extension": ".py",
   "mimetype": "text/x-python",
   "name": "python",
   "nbconvert_exporter": "python",
   "pygments_lexer": "ipython3",
   "version": "3.11.5"
  }
 },
 "nbformat": 4,
 "nbformat_minor": 5
}
