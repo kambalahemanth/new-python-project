{
 "cells": [
  {
   "cell_type": "code",
   "execution_count": 1,
   "id": "d09911fb-c1a9-42fa-936e-c7b8e1544a38",
   "metadata": {},
   "outputs": [
    {
     "name": "stdout",
     "output_type": "stream",
     "text": [
      "Addition: 23\n",
      "Subtraction: 17\n",
      "Multiplication: 60\n",
      "Divison: 6.666666666666667\n",
      "Modulo(remainder): 2\n",
      "Floor divison: 6\n",
      "exponent(power) 8000\n"
     ]
    }
   ],
   "source": [
    "a = 20     #operators\n",
    "b = 3\n",
    "\n",
    "print(\"Addition:\",a+b)\n",
    "print(\"Subtraction:\",a-b)\n",
    "print(\"Multiplication:\",a*b)\n",
    "print(\"Divison:\",a/b)\n",
    "print(\"Modulo(remainder):\",a%b)\n",
    "print(\"Floor divison:\",a//b)\n",
    "print(\"exponent(power)\",a**b)"
   ]
  },
  {
   "cell_type": "code",
   "execution_count": 2,
   "id": "3b2f8971-e7f5-4cd1-8aa8-67f3968555d7",
   "metadata": {},
   "outputs": [
    {
     "name": "stdout",
     "output_type": "stream",
     "text": [
      "-7.5\n",
      "-7\n",
      "-8\n"
     ]
    }
   ],
   "source": [
    "import math\n",
    "a = -15.0/2            # -7.5\n",
    "print(a)\n",
    "print(math.ceil(a))      #-7  highest value\n",
    "print(math.floor(a))     #-8  least value"
   ]
  },
  {
   "cell_type": "code",
   "execution_count": 3,
   "id": "188abcf3-a498-4e23-94bd-42bbe63825b1",
   "metadata": {},
   "outputs": [
    {
     "name": "stdout",
     "output_type": "stream",
     "text": [
      "hemanth10\n",
      "hemanthhemanth\n"
     ]
    }
   ],
   "source": [
    "# print(\"hemanth\"+10)        # TypeError: must be str, not int\n",
    "print(\"hemanth\"+\"10\")\n",
    "print(\"hemanth\"*2)\n",
    "# print(10/0)              # ZeroDivisionError: division by zero\n",
    "# print(10%0)              # ZeroDivisionError: integer division or modulo by zero"
   ]
  },
  {
   "cell_type": "code",
   "execution_count": 4,
   "id": "3b8d6823-4630-4844-bb38-f9b5e4aa5d9c",
   "metadata": {},
   "outputs": [
    {
     "name": "stdout",
     "output_type": "stream",
     "text": [
      "a is greater than b         : False\n",
      "a is greater than or equal b: False\n",
      "a is lesser than b          : True\n",
      "a is lesser than or equal  b: True\n"
     ]
    }
   ],
   "source": [
    "a = 20\n",
    "b = 30\n",
    "print(\"a is greater than b         :\",a>b)\n",
    "print(\"a is greater than or equal b:\",a>=b)\n",
    "print(\"a is lesser than b          :\",a<b)\n",
    "print(\"a is lesser than or equal  b:\",a<=b)"
   ]
  },
  {
   "cell_type": "code",
   "execution_count": 5,
   "id": "b044e0b5-77d3-4da0-ae95-6852d8609a9d",
   "metadata": {},
   "outputs": [
    {
     "name": "stdout",
     "output_type": "stream",
     "text": [
      "a is greater than b         : False\n",
      "a is greater than or equal b: False\n",
      "a is lesser than b          : True\n",
      "a is lesser than or equal  b: True\n"
     ]
    }
   ],
   "source": [
    "# We can apply relational operators for str types also\n",
    "a = \"hemanth\"\n",
    "b = \"naidu\"\n",
    "print(\"a is greater than b         :\",a>b)\n",
    "print(\"a is greater than or equal b:\",a>=b)\n",
    "print(\"a is lesser than b          :\",a<b)\n",
    "print(\"a is lesser than or equal  b:\",a<=b)"
   ]
  },
  {
   "cell_type": "code",
   "execution_count": 6,
   "id": "bb64aa59-a251-469a-8be5-a21beee4b030",
   "metadata": {},
   "outputs": [
    {
     "name": "stdout",
     "output_type": "stream",
     "text": [
      "False\n",
      "True\n",
      "False\n",
      "True\n"
     ]
    }
   ],
   "source": [
    "print(True>True)\n",
    "print(True>=True)\n",
    "print(False > True)\n",
    "print(10>True)\n",
    "#print(10>\"hemanth\")         # TypeError: '>' not supported between instances of 'int' and 'str'"
   ]
  },
  {
   "cell_type": "code",
   "execution_count": 8,
   "id": "0547cdbd-41b6-40d0-aac4-e49373295faa",
   "metadata": {},
   "outputs": [
    {
     "name": "stdout",
     "output_type": "stream",
     "text": [
      "b is not greater than c\n"
     ]
    }
   ],
   "source": [
    "b = 20\n",
    "c = 30\n",
    "if b>c:\n",
    "    print(\"b is greater than c\")\n",
    "else:\n",
    "    print(\"b is not greater than c\")"
   ]
  },
  {
   "cell_type": "code",
   "execution_count": 9,
   "id": "2f72fa6f-7ccd-44a7-b02a-477ef13a9ab5",
   "metadata": {},
   "outputs": [
    {
     "name": "stdout",
     "output_type": "stream",
     "text": [
      "True\n",
      "True\n",
      "True\n",
      "False\n"
     ]
    }
   ],
   "source": [
    "print(10<20)\n",
    "print(10<20<30)\n",
    "print(10<20<30<40)\n",
    "print(10<20<30<40>50)"
   ]
  },
  {
   "cell_type": "code",
   "execution_count": 10,
   "id": "ffbc66be-edd9-4726-96bc-2ff90e99daa0",
   "metadata": {},
   "outputs": [
    {
     "name": "stdout",
     "output_type": "stream",
     "text": [
      "False\n",
      "True\n",
      "False\n",
      "True\n",
      "True\n",
      "False\n"
     ]
    }
   ],
   "source": [
    "print(10 == 20)\n",
    "print(10 != 20)\n",
    "print(10 == True)\n",
    "print(False==False)\n",
    "print(\"hemanth\" == \"hemanth\")\n",
    "print(10 == \"hemanth\")"
   ]
  },
  {
   "cell_type": "code",
   "execution_count": 11,
   "id": "0b4afe6f-47eb-4acc-af58-0e4fb440446e",
   "metadata": {},
   "outputs": [
    {
     "name": "stdout",
     "output_type": "stream",
     "text": [
      "50\n"
     ]
    }
   ],
   "source": [
    "\n",
    " #Assignment Operator\n",
    "x = 30\n",
    "x += 20   # x=x+20\n",
    "print(x)"
   ]
  },
  {
   "cell_type": "code",
   "execution_count": 12,
   "id": "0814437a-714f-49f1-a2bd-e60bd318abb1",
   "metadata": {},
   "outputs": [
    {
     "name": "stdout",
     "output_type": "stream",
     "text": [
      "a is lesser\n"
     ]
    }
   ],
   "source": [
    "a=10                                 #Ternary Operator \n",
    "b=20\n",
    "x = (\"a is greater\") if a>b else (\"a is lesser\")\n",
    "print(x)"
   ]
  },
  {
   "cell_type": "code",
   "execution_count": 13,
   "id": "d23a7e24-9ab5-426d-87fa-ce21f5bd8125",
   "metadata": {},
   "outputs": [
    {
     "name": "stdin",
     "output_type": "stream",
     "text": [
      "Enter the 1st number: 20\n",
      "Enter the 2nd number: 30\n"
     ]
    },
    {
     "name": "stdout",
     "output_type": "stream",
     "text": [
      "Minimum value: 20\n"
     ]
    }
   ],
   "source": [
    "a = int(input(\"Enter the 1st number:\"))\n",
    "b = int(input(\"Enter the 2nd number:\"))\n",
    "min = a if a<b else b\n",
    "print(\"Minimum value:\",min)"
   ]
  },
  {
   "cell_type": "code",
   "execution_count": 17,
   "id": "1e9d3811-3f54-4a44-92ab-273a9f8178d0",
   "metadata": {},
   "outputs": [
    {
     "name": "stdin",
     "output_type": "stream",
     "text": [
      "Enter the 1st number: 30\n",
      "Enter the 2nd number: 40\n",
      "Enter the 3rd number: 10\n"
     ]
    },
    {
     "name": "stdout",
     "output_type": "stream",
     "text": [
      "Minimum value: 10\n"
     ]
    }
   ],
   "source": [
    "a = int(input(\"Enter the 1st number:\"))\n",
    "b = int(input(\"Enter the 2nd number:\"))\n",
    "c = int(input(\"Enter the 3rd number:\"))\n",
    "min = a if a<b and a<c else b if b<c else c\n",
    "print(\"Minimum value:\",min)"
   ]
  },
  {
   "cell_type": "code",
   "execution_count": 18,
   "id": "40d1be92-e814-4217-be9a-10be2e0a55fe",
   "metadata": {},
   "outputs": [
    {
     "name": "stdin",
     "output_type": "stream",
     "text": [
      "Enter the 1st number: 10\n",
      "Enter the 2nd number: 20\n",
      "Enter the 3rd number: 30\n"
     ]
    },
    {
     "name": "stdout",
     "output_type": "stream",
     "text": [
      "Maximum value: 30\n"
     ]
    }
   ],
   "source": [
    "a = int(input(\"Enter the 1st number:\"))\n",
    "b = int(input(\"Enter the 2nd number:\"))\n",
    "c = int(input(\"Enter the 3rd number:\"))\n",
    "max = a if a>b and a>c else b if b>c else c\n",
    "print(\"Maximum value:\",max)"
   ]
  },
  {
   "cell_type": "code",
   "execution_count": 21,
   "id": "7bb06b4d-4973-4508-94a9-b17ec24cf074",
   "metadata": {},
   "outputs": [
    {
     "name": "stdin",
     "output_type": "stream",
     "text": [
      "Enter the 1st number: 20\n",
      "Enter the 2nd number: 10\n"
     ]
    },
    {
     "data": {
      "text/plain": [
       "'a is greater than b'"
      ]
     },
     "execution_count": 21,
     "metadata": {},
     "output_type": "execute_result"
    }
   ],
   "source": [
    "a = int(input(\"Enter the 1st number:\"))\n",
    "b = int(input(\"Enter the 2nd number:\"))\n",
    "(\"both are equal\") if a==b else (\"a is greater than b\") if a>b else (\"a is lesser than b\")"
   ]
  },
  {
   "cell_type": "code",
   "execution_count": 26,
   "id": "8e83c21a-0edb-4bc7-89f2-f76fecfb4fda",
   "metadata": {},
   "outputs": [
    {
     "name": "stdout",
     "output_type": "stream",
     "text": [
      "False\n"
     ]
    }
   ],
   "source": [
    "a = 20\n",
    "b = 10\n",
    "print(a is  b)     # both a and b are pointing to same value"
   ]
  },
  {
   "cell_type": "code",
   "execution_count": 39,
   "id": "20f061ad-c6d4-4abd-b988-7329ab81958a",
   "metadata": {},
   "outputs": [
    {
     "name": "stdout",
     "output_type": "stream",
     "text": [
      "True\n",
      "1964473774976\n",
      "1964473688432\n"
     ]
    }
   ],
   "source": [
    "n=(\"hemanth\")\n",
    "n=(\"hemanth\")\n",
    "print(n is n)\n",
    "id(n)\n",
    "print(id(s))\n",
    "print(id(n))"
   ]
  },
  {
   "cell_type": "code",
   "execution_count": 40,
   "id": "409ed711-bbc2-4419-8260-5ff04b147108",
   "metadata": {},
   "outputs": [
    {
     "name": "stdout",
     "output_type": "stream",
     "text": [
      "False\n",
      "True\n",
      "True\n",
      "True\n"
     ]
    }
   ],
   "source": [
    "x = \"i am from BHEEMAVARAM\"\n",
    "print(\"b\" in x)\n",
    "print(\"B\" in x)\n",
    "print(\"z\" not in x)\n",
    "print(\"am\" in x)"
   ]
  },
  {
   "cell_type": "code",
   "execution_count": null,
   "id": "a217768f-b094-4586-9a09-026444058c7d",
   "metadata": {},
   "outputs": [],
   "source": []
  }
 ],
 "metadata": {
  "kernelspec": {
   "display_name": "Python 3 (ipykernel)",
   "language": "python",
   "name": "python3"
  },
  "language_info": {
   "codemirror_mode": {
    "name": "ipython",
    "version": 3
   },
   "file_extension": ".py",
   "mimetype": "text/x-python",
   "name": "python",
   "nbconvert_exporter": "python",
   "pygments_lexer": "ipython3",
   "version": "3.11.5"
  }
 },
 "nbformat": 4,
 "nbformat_minor": 5
}
