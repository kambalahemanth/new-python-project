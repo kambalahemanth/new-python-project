{
 "cells": [
  {
   "cell_type": "code",
   "execution_count": 2,
   "id": "d4888b49-c2dd-46cb-9404-9aa41ff1ecfa",
   "metadata": {},
   "outputs": [],
   "source": [
    "# functions means reusability of code,high performance\n",
    "\n",
    "def addition(x,y):\n",
    "    print(\"addition of two values\")\n",
    "    a=x+y\n",
    "    return a"
   ]
  },
  {
   "cell_type": "code",
   "execution_count": 3,
   "id": "88b90f3e-7cd1-4708-bd9e-ae5b0f66328e",
   "metadata": {},
   "outputs": [
    {
     "name": "stdout",
     "output_type": "stream",
     "text": [
      "addition of two values\n"
     ]
    },
    {
     "data": {
      "text/plain": [
       "123"
      ]
     },
     "execution_count": 3,
     "metadata": {},
     "output_type": "execute_result"
    }
   ],
   "source": [
    "addition(56,67)"
   ]
  },
  {
   "cell_type": "code",
   "execution_count": null,
   "id": "a0262de0-1ce2-4d5f-b1ad-0b0f6c8b0e13",
   "metadata": {},
   "outputs": [],
   "source": [
    "addition (56,89)"
   ]
  },
  {
   "cell_type": "code",
   "execution_count": 5,
   "id": "2571ff11-9782-4d73-a0ae-d7a421018958",
   "metadata": {},
   "outputs": [],
   "source": [
    "def sub(k,h):\n",
    "    b=k-h\n",
    "    return b"
   ]
  },
  {
   "cell_type": "code",
   "execution_count": 6,
   "id": "cf81cf44-8705-444e-a6e9-f7fb4d26b4ba",
   "metadata": {},
   "outputs": [
    {
     "data": {
      "text/plain": [
       "978"
      ]
     },
     "execution_count": 6,
     "metadata": {},
     "output_type": "execute_result"
    }
   ],
   "source": [
    "sub(1123,145)"
   ]
  },
  {
   "cell_type": "code",
   "execution_count": 7,
   "id": "a91f8335-9e08-43f5-8003-fda4d053d916",
   "metadata": {},
   "outputs": [],
   "source": [
    "def multi(a,b,c):\n",
    "    print(\"multi of three numbers:\",a,b,c)\n",
    "    m=a*b*c\n",
    "    return m"
   ]
  },
  {
   "cell_type": "code",
   "execution_count": 8,
   "id": "feaeab4c-b283-4fd5-b9d5-bc2aaf7422ff",
   "metadata": {},
   "outputs": [
    {
     "name": "stdout",
     "output_type": "stream",
     "text": [
      "multi of three numbers: 333 445 778\n"
     ]
    },
    {
     "data": {
      "text/plain": [
       "115287930"
      ]
     },
     "execution_count": 8,
     "metadata": {},
     "output_type": "execute_result"
    }
   ],
   "source": [
    "multi(333,445,778)\n"
   ]
  },
  {
   "cell_type": "code",
   "execution_count": null,
   "id": "b586b606-5b8b-41f9-aed3-a0076fb226d1",
   "metadata": {},
   "outputs": [],
   "source": []
  },
  {
   "cell_type": "code",
   "execution_count": null,
   "id": "e4d1937a-7405-48ac-b5b8-2a00e4af77fc",
   "metadata": {},
   "outputs": [],
   "source": []
  },
  {
   "cell_type": "code",
   "execution_count": 9,
   "id": "d353b05f-af7f-4e33-b9bc-58f6220dc326",
   "metadata": {},
   "outputs": [],
   "source": [
    "def greeting(name):\n",
    "    print(\"hai morning\",name)\n",
    "    print (\"welcome to python\")\n",
    "    \n",
    "    "
   ]
  },
  {
   "cell_type": "code",
   "execution_count": 10,
   "id": "63852941-cc81-4a5b-8af9-7b69813a9619",
   "metadata": {},
   "outputs": [
    {
     "name": "stdout",
     "output_type": "stream",
     "text": [
      "hai morning hemanth:naidu\n",
      "welcome to python\n"
     ]
    }
   ],
   "source": [
    " greeting(\"hemanth:naidu\")"
   ]
  },
  {
   "cell_type": "code",
   "execution_count": 11,
   "id": "eacea30c-5770-400c-a245-b33225f7f1c3",
   "metadata": {},
   "outputs": [],
   "source": [
    "     def sub(k,h):\n",
    "         b=k-h\n",
    "         return b"
   ]
  },
  {
   "cell_type": "code",
   "execution_count": 12,
   "id": "3f9e0cd9-b7cb-4a04-a175-acc751dd2a7e",
   "metadata": {},
   "outputs": [
    {
     "data": {
      "text/plain": [
       "-57"
      ]
     },
     "execution_count": 12,
     "metadata": {},
     "output_type": "execute_result"
    }
   ],
   "source": [
    "sub(k=34,h=91)   #keywords"
   ]
  },
  {
   "cell_type": "code",
   "execution_count": 13,
   "id": "de136e07-70b6-4bbf-ab35-82f4b7a210c3",
   "metadata": {},
   "outputs": [],
   "source": [
    "def wish(name=\"guest\"):\n",
    "    print(\"hi welcome\",name)      #default"
   ]
  },
  {
   "cell_type": "code",
   "execution_count": 16,
   "id": "fb7e730b-6c85-4bf3-96cb-637683ee5049",
   "metadata": {},
   "outputs": [
    {
     "name": "stdout",
     "output_type": "stream",
     "text": [
      "hi welcome hemanth\n"
     ]
    }
   ],
   "source": [
    "wish(\"hemanth\")"
   ]
  },
  {
   "cell_type": "code",
   "execution_count": 34,
   "id": "5271393a-6ce1-4bdf-9e44-a0adc3f3c877",
   "metadata": {},
   "outputs": [
    {
     "name": "stdout",
     "output_type": "stream",
     "text": [
      "2\n",
      "34\n"
     ]
    }
   ],
   "source": [
    "#var length\n",
    "def vrl(*z):\n",
    "    for i in z:\n",
    "        \n",
    "        print(i)\n",
    "\n",
    "vrl(2,34)\n"
   ]
  },
  {
   "cell_type": "code",
   "execution_count": 36,
   "id": "c7b971ad-497f-478d-a426-9d231ddd17b2",
   "metadata": {},
   "outputs": [],
   "source": [
    "def f1(n1,*s):\n",
    "    print('position arg',n1)\n",
    "    for s1 in s:\n",
    "        print('varlen args',s1)\n",
    "#f1(5)\n",
    "#f1(10,20,30,40)\n",
    "#f1(10,'A',20,'B')"
   ]
  },
  {
   "cell_type": "code",
   "execution_count": 38,
   "id": "47784e8e-38e6-4036-8e79-05a50db9fb1c",
   "metadata": {},
   "outputs": [
    {
     "name": "stdout",
     "output_type": "stream",
     "text": [
      "position arg 4\n",
      "position arg 23\n",
      "varlen args 45\n",
      "varlen args 5786\n"
     ]
    }
   ],
   "source": [
    "f1(4)\n",
    "f1(23,45,5786)\n"
   ]
  },
  {
   "cell_type": "code",
   "execution_count": 58,
   "id": "e1a60983-e6d9-4919-96bc-1d4a180adabc",
   "metadata": {},
   "outputs": [],
   "source": [
    "def func(arg1,arg2,arg3=3,arg4=4):\n",
    "    print(arg1,arg2,arg3,arg4)\n",
    "    "
   ]
  },
  {
   "cell_type": "code",
   "execution_count": 72,
   "id": "76ea23ae-3b93-4010-b272-8ff30e42e7c7",
   "metadata": {},
   "outputs": [
    {
     "name": "stdout",
     "output_type": "stream",
     "text": [
      "67 89 3 78\n"
     ]
    }
   ],
   "source": [
    "func(arg4=78,arg1=67,arg2=89)\n"
   ]
  },
  {
   "cell_type": "code",
   "execution_count": null,
   "id": "c98a05f6-2276-4fd4-9232-e35ad227513a",
   "metadata": {},
   "outputs": [],
   "source": []
  },
  {
   "cell_type": "code",
   "execution_count": null,
   "id": "1d7ac016-fa5c-4972-a6b6-20361f6da891",
   "metadata": {},
   "outputs": [],
   "source": []
  }
 ],
 "metadata": {
  "kernelspec": {
   "display_name": "Python 3 (ipykernel)",
   "language": "python",
   "name": "python3"
  },
  "language_info": {
   "codemirror_mode": {
    "name": "ipython",
    "version": 3
   },
   "file_extension": ".py",
   "mimetype": "text/x-python",
   "name": "python",
   "nbconvert_exporter": "python",
   "pygments_lexer": "ipython3",
   "version": "3.11.5"
  }
 },
 "nbformat": 4,
 "nbformat_minor": 5
}
