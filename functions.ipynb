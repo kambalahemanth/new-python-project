{
 "cells": [
  {
   "cell_type": "code",
   "execution_count": null,
   "id": "d4888b49-c2dd-46cb-9404-9aa41ff1ecfa",
   "metadata": {},
   "outputs": [],
   "source": [
    "# functions means reusability of code,high performance\n",
    "\n",
    "def addition(x,y):\n",
    "    print(\"addition of two values\")\n",
    "    a=x+y\n",
    "    return a"
   ]
  },
  {
   "cell_type": "code",
   "execution_count": null,
   "id": "88b90f3e-7cd1-4708-bd9e-ae5b0f66328e",
   "metadata": {},
   "outputs": [],
   "source": [
    "addition(45,59)"
   ]
  },
  {
   "cell_type": "code",
   "execution_count": null,
   "id": "a0262de0-1ce2-4d5f-b1ad-0b0f6c8b0e13",
   "metadata": {},
   "outputs": [],
   "source": [
    "addition (56,89)"
   ]
  },
  {
   "cell_type": "code",
   "execution_count": null,
   "id": "2571ff11-9782-4d73-a0ae-d7a421018958",
   "metadata": {},
   "outputs": [],
   "source": [
    "def sub(k,h):\n",
    "    b=k-h\n",
    "    return b"
   ]
  },
  {
   "cell_type": "code",
   "execution_count": null,
   "id": "cf81cf44-8705-444e-a6e9-f7fb4d26b4ba",
   "metadata": {},
   "outputs": [],
   "source": [
    "sub(100,50)"
   ]
  },
  {
   "cell_type": "code",
   "execution_count": null,
   "id": "a91f8335-9e08-43f5-8003-fda4d053d916",
   "metadata": {},
   "outputs": [],
   "source": [
    "def multi(a,b,c):\n",
    "    print(\"multi of three numbers:\",a,b,c)\n",
    "    m=a*b*c\n",
    "    return m"
   ]
  },
  {
   "cell_type": "code",
   "execution_count": null,
   "id": "feaeab4c-b283-4fd5-b9d5-bc2aaf7422ff",
   "metadata": {},
   "outputs": [],
   "source": [
    "multi(333,445,778)\n"
   ]
  },
  {
   "cell_type": "code",
   "execution_count": null,
   "id": "b586b606-5b8b-41f9-aed3-a0076fb226d1",
   "metadata": {},
   "outputs": [],
   "source": []
  },
  {
   "cell_type": "code",
   "execution_count": null,
   "id": "e4d1937a-7405-48ac-b5b8-2a00e4af77fc",
   "metadata": {},
   "outputs": [],
   "source": []
  },
  {
   "cell_type": "code",
   "execution_count": null,
   "id": "d353b05f-af7f-4e33-b9bc-58f6220dc326",
   "metadata": {},
   "outputs": [],
   "source": [
    "def greeting(name):\n",
    "    print(\"hai morning\",name)\n",
    "    print (\"welcome to python\")\n",
    "    \n",
    "    "
   ]
  },
  {
   "cell_type": "code",
   "execution_count": null,
   "id": "63852941-cc81-4a5b-8af9-7b69813a9619",
   "metadata": {},
   "outputs": [],
   "source": [
    " greeting(\"hemanth:naidu\")"
   ]
  },
  {
   "cell_type": "code",
   "execution_count": null,
   "id": "eacea30c-5770-400c-a245-b33225f7f1c3",
   "metadata": {},
   "outputs": [],
   "source": [
    "     def sub(k,h):\n",
    "         b=k-h\n",
    "         return b"
   ]
  },
  {
   "cell_type": "code",
   "execution_count": null,
   "id": "3f9e0cd9-b7cb-4a04-a175-acc751dd2a7e",
   "metadata": {},
   "outputs": [],
   "source": [
    "sub(k=56,h=90)   #keywords"
   ]
  },
  {
   "cell_type": "code",
   "execution_count": null,
   "id": "de136e07-70b6-4bbf-ab35-82f4b7a210c3",
   "metadata": {},
   "outputs": [],
   "source": [
    "def wish(name=\"guest\"):\n",
    "    print(\"hi welcome\",name)      #default"
   ]
  },
  {
   "cell_type": "code",
   "execution_count": null,
   "id": "fb7e730b-6c85-4bf3-96cb-637683ee5049",
   "metadata": {},
   "outputs": [],
   "source": [
    "wish()"
   ]
  },
  {
   "cell_type": "code",
   "execution_count": 15,
   "id": "6bcf9113-5dc5-4f8e-8a01-b0650f972f21",
   "metadata": {},
   "outputs": [
    {
     "name": "stdout",
     "output_type": "stream",
     "text": [
      "1\n",
      "rtr\n",
      "45\n",
      "64\n"
     ]
    }
   ],
   "source": [
    "for i in [1,'rtr',45,64]:\n",
    "    print(i)\n",
    "\n",
    "    "
   ]
  },
  {
   "cell_type": "code",
   "execution_count": null,
   "id": "f420c382-5574-4381-b353-d057c6552406",
   "metadata": {},
   "outputs": [],
   "source": [
    "var(4,6,7)"
   ]
  },
  {
   "cell_type": "code",
   "execution_count": 41,
   "id": "c7b971ad-497f-478d-a426-9d231ddd17b2",
   "metadata": {},
   "outputs": [],
   "source": [
    "def f1(n1,*s):\n",
    "    print('position arg',n1)\n",
    "    for s1 in s:\n",
    "        print('varlen args',s1)\n",
    "#f1(5)\n",
    "#f1(10,20,30,40)\n",
    "#f1(10,'A',20,'B')"
   ]
  },
  {
   "cell_type": "code",
   "execution_count": 42,
   "id": "47784e8e-38e6-4036-8e79-05a50db9fb1c",
   "metadata": {},
   "outputs": [
    {
     "name": "stdout",
     "output_type": "stream",
     "text": [
      "position arg 80\n",
      "varlen args 56\n"
     ]
    }
   ],
   "source": [
    "f1(80,56)\n"
   ]
  },
  {
   "cell_type": "code",
   "execution_count": 44,
   "id": "e1a60983-e6d9-4919-96bc-1d4a180adabc",
   "metadata": {},
   "outputs": [],
   "source": [
    "def func(arg1,arg2,arg3=3,arg4=4):\n",
    "    print(arg1,arg2,arg3,arg4)\n",
    "    "
   ]
  },
  {
   "cell_type": "code",
   "execution_count": 47,
   "id": "76ea23ae-3b93-4010-b272-8ff30e42e7c7",
   "metadata": {},
   "outputs": [
    {
     "name": "stdout",
     "output_type": "stream",
     "text": [
      "1 2 5 6\n"
     ]
    }
   ],
   "source": [
    "func(1,2,5,6)\n"
   ]
  },
  {
   "cell_type": "code",
   "execution_count": null,
   "id": "c98a05f6-2276-4fd4-9232-e35ad227513a",
   "metadata": {},
   "outputs": [],
   "source": []
  }
 ],
 "metadata": {
  "kernelspec": {
   "display_name": "Python 3 (ipykernel)",
   "language": "python",
   "name": "python3"
  },
  "language_info": {
   "codemirror_mode": {
    "name": "ipython",
    "version": 3
   },
   "file_extension": ".py",
   "mimetype": "text/x-python",
   "name": "python",
   "nbconvert_exporter": "python",
   "pygments_lexer": "ipython3",
   "version": "3.11.5"
  }
 },
 "nbformat": 4,
 "nbformat_minor": 5
}
