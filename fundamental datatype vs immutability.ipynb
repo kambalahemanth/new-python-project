{
 "cells": [
  {
   "cell_type": "code",
   "execution_count": null,
   "id": "2c3d00fc-5f69-4fba-bfcf-dec85a402c30",
   "metadata": {},
   "outputs": [],
   "source": [
    "#fundamental datatype vs immutability"
   ]
  },
  {
   "cell_type": "code",
   "execution_count": 1,
   "id": "cc1524fb-a09c-4a75-8c7f-c57350efd8c0",
   "metadata": {},
   "outputs": [
    {
     "name": "stdout",
     "output_type": "stream",
     "text": [
      "True\n",
      "140714428458056\n",
      "140714428458056\n"
     ]
    }
   ],
   "source": [
    "a=10\n",
    "b=10\n",
    "print( a is b)\n",
    "print(id(a))\n",
    "print(id(b))"
   ]
  },
  {
   "cell_type": "code",
   "execution_count": 2,
   "id": "750cfecb-f5d6-4a25-b565-dcb0116ffb47",
   "metadata": {},
   "outputs": [
    {
     "name": "stdout",
     "output_type": "stream",
     "text": [
      "False\n",
      "2634651974800\n",
      "2634651975248\n"
     ]
    }
   ],
   "source": [
    "a=10+5j\n",
    "b=10+5j\n",
    "print( a is b)\n",
    "print(id(a))\n",
    "print(id(b))"
   ]
  },
  {
   "cell_type": "code",
   "execution_count": 4,
   "id": "b9583c9e-52b2-488c-8ba1-6082d918f21f",
   "metadata": {},
   "outputs": [
    {
     "name": "stdout",
     "output_type": "stream",
     "text": [
      "True\n",
      "140714426932072\n",
      "140714426932072\n"
     ]
    }
   ],
   "source": [
    "a=True\n",
    "b=True\n",
    "print( a is b)\n",
    "print(id(a))\n",
    "print(id(b))"
   ]
  },
  {
   "cell_type": "code",
   "execution_count": 5,
   "id": "cf66ac16-8763-4233-9e34-1657abe75946",
   "metadata": {},
   "outputs": [
    {
     "name": "stdout",
     "output_type": "stream",
     "text": [
      "True\n",
      "2634652466032\n",
      "2634652466032\n"
     ]
    }
   ],
   "source": [
    "a=\"hemanth\"\n",
    "b=\"hemanth\"\n",
    "print( a is b)\n",
    "print(id(a))\n",
    "print(id(b))"
   ]
  },
  {
   "cell_type": "code",
   "execution_count": null,
   "id": "56abcd50-a2be-483c-8b52-b569f5d60e57",
   "metadata": {},
   "outputs": [],
   "source": []
  }
 ],
 "metadata": {
  "kernelspec": {
   "display_name": "Python 3 (ipykernel)",
   "language": "python",
   "name": "python3"
  },
  "language_info": {
   "codemirror_mode": {
    "name": "ipython",
    "version": 3
   },
   "file_extension": ".py",
   "mimetype": "text/x-python",
   "name": "python",
   "nbconvert_exporter": "python",
   "pygments_lexer": "ipython3",
   "version": "3.11.5"
  }
 },
 "nbformat": 4,
 "nbformat_minor": 5
}
