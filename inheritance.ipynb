{
 "cells": [
  {
   "cell_type": "code",
   "execution_count": 2,
   "id": "bde1bfe9-9e00-473b-aa58-90a4f8cf58e9",
   "metadata": {},
   "outputs": [
    {
     "name": "stdout",
     "output_type": "stream",
     "text": [
      "parent class z1() method\n",
      "parent class z2() method\n",
      "parent class z3() method\n"
     ]
    }
   ],
   "source": [
    "class A:\n",
    "    def z1(self):\n",
    "        print(\"parent class z1() method\")\n",
    "    def z2(self):\n",
    "        print(\"parent class z2() method\")\n",
    "    def z3(self):\n",
    "        print(\"parent class z3() method\")\n",
    "        \n",
    "class B:\n",
    "    c=A()\n",
    "    c.z1()\n",
    "    c.z2()\n",
    "    c.z3()"
   ]
  },
  {
   "cell_type": "code",
   "execution_count": 3,
   "id": "67403d13-0704-4a80-b4eb-a3bb15a85a9e",
   "metadata": {},
   "outputs": [],
   "source": [
    "class parent:\n",
    "    def apartments(self):\n",
    "        print(\"apartments\")\n",
    "        \n",
    "    def colours(self):\n",
    "        print(\"colours\")\n",
    "\n",
    "class child(parent):\n",
    "    pass"
   ]
  },
  {
   "cell_type": "code",
   "execution_count": 4,
   "id": "7d1caa3e-3e25-4f6d-bb33-8586e8174176",
   "metadata": {},
   "outputs": [],
   "source": [
    "p=child()"
   ]
  },
  {
   "cell_type": "code",
   "execution_count": 7,
   "id": "7b6743f8-0369-48a7-b0fd-e8280e1b2770",
   "metadata": {},
   "outputs": [
    {
     "name": "stdout",
     "output_type": "stream",
     "text": [
      "apartments\n",
      "colours\n"
     ]
    }
   ],
   "source": [
    "p.apartments()\n",
    "p.colours()"
   ]
  },
  {
   "cell_type": "code",
   "execution_count": 17,
   "id": "662e7ff5-8fc8-48c8-b7c4-ffebed248cd9",
   "metadata": {},
   "outputs": [],
   "source": [
    "class parent:\n",
    "    def apartments(self):\n",
    "        print(\"apartments\")\n",
    "        \n",
    "    def colours(self):\n",
    "        print(\"colours\")\n",
    "\n",
    "class child(parent):\n",
    "    def paints(self):\n",
    "        print(\"paints\")\n",
    "        \n",
    "    def reds(self):\n",
    "        print(\"reds\")\n"
   ]
  },
  {
   "cell_type": "code",
   "execution_count": 15,
   "id": "22378b13-9d4b-49ed-b86c-24b3ca7d3543",
   "metadata": {},
   "outputs": [
    {
     "name": "stdout",
     "output_type": "stream",
     "text": [
      "apartments\n"
     ]
    }
   ],
   "source": [
    "p.apartments()"
   ]
  },
  {
   "cell_type": "code",
   "execution_count": 19,
   "id": "5407bd10-e79f-4c69-a22e-686d10f18440",
   "metadata": {},
   "outputs": [],
   "source": [
    "p=child()"
   ]
  },
  {
   "cell_type": "code",
   "execution_count": 20,
   "id": "22d18c64-5bcf-4b6b-a044-82a05c5d0ef1",
   "metadata": {},
   "outputs": [
    {
     "name": "stdout",
     "output_type": "stream",
     "text": [
      "reds\n"
     ]
    }
   ],
   "source": [
    "p.reds()"
   ]
  },
  {
   "cell_type": "code",
   "execution_count": null,
   "id": "0a5acfc1-0dc0-459e-9c3a-34ec156803c1",
   "metadata": {},
   "outputs": [],
   "source": []
  }
 ],
 "metadata": {
  "kernelspec": {
   "display_name": "Python 3 (ipykernel)",
   "language": "python",
   "name": "python3"
  },
  "language_info": {
   "codemirror_mode": {
    "name": "ipython",
    "version": 3
   },
   "file_extension": ".py",
   "mimetype": "text/x-python",
   "name": "python",
   "nbconvert_exporter": "python",
   "pygments_lexer": "ipython3",
   "version": "3.11.5"
  }
 },
 "nbformat": 4,
 "nbformat_minor": 5
}
