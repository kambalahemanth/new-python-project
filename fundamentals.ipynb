{
 "cells": [
  {
   "cell_type": "code",
   "execution_count": 2,
   "id": "b63a6332-25c5-4f3f-a99d-88878d6695ee",
   "metadata": {},
   "outputs": [],
   "source": [
    "#int (1to9),float(0.8,0.6),boolean(true or false),complex(1+3j),string(\"hello\") #fundamentals data types\n"
   ]
  },
  {
   "cell_type": "code",
   "execution_count": 3,
   "id": "4bac201f-c3e2-4683-9194-a21b5587ae7c",
   "metadata": {},
   "outputs": [
    {
     "name": "stdout",
     "output_type": "stream",
     "text": [
      "92\n"
     ]
    }
   ],
   "source": [
    "a=92\n",
    "type(a)\n",
    "id(a)\n",
    "print(a)\n"
   ]
  },
  {
   "cell_type": "code",
   "execution_count": 4,
   "id": "aee2ecdc-eb55-4a79-b832-d0211c49cdaa",
   "metadata": {},
   "outputs": [
    {
     "name": "stdout",
     "output_type": "stream",
     "text": [
      "helo the string\n"
     ]
    }
   ],
   "source": [
    "l=(\"helo the string\")\n",
    "print(l)"
   ]
  },
  {
   "cell_type": "code",
   "execution_count": 5,
   "id": "076ecdf6-f99c-40e3-88f4-3b272817cfae",
   "metadata": {},
   "outputs": [
    {
     "name": "stdout",
     "output_type": "stream",
     "text": [
      " i am hemanth\n"
     ]
    }
   ],
   "source": [
    "print(\" i am hemanth\")"
   ]
  },
  {
   "cell_type": "code",
   "execution_count": 9,
   "id": "abcb9be3-5d04-4a0e-b563-37c56b1432cf",
   "metadata": {},
   "outputs": [
    {
     "data": {
      "text/plain": [
       "'13'"
      ]
     },
     "execution_count": 9,
     "metadata": {},
     "output_type": "execute_result"
    }
   ],
   "source": [
    "b=13\n",
    "float(b)\n",
    "complex(b)\n",
    "str(b)"
   ]
  },
  {
   "cell_type": "code",
   "execution_count": 14,
   "id": "ac099d78-27b0-4da1-b8a9-eb189339c87c",
   "metadata": {},
   "outputs": [
    {
     "name": "stdout",
     "output_type": "stream",
     "text": [
      "<class 'int'>\n",
      "140714428460904\n",
      "99\n"
     ]
    }
   ],
   "source": [
    "h=99\n",
    "print(type(h))\n",
    "print(id(h))\n",
    "print(h)"
   ]
  },
  {
   "cell_type": "code",
   "execution_count": 16,
   "id": "35767361-2f91-4de4-a0a1-6ce30011fa90",
   "metadata": {},
   "outputs": [
    {
     "name": "stdout",
     "output_type": "stream",
     "text": [
      "10.5\n",
      "1991894836720\n",
      "<class 'float'>\n"
     ]
    }
   ],
   "source": [
    "f=10.5\n",
    "print(f)\n",
    "print(id(f))\n",
    "print(type(f))\n"
   ]
  },
  {
   "cell_type": "code",
   "execution_count": 21,
   "id": "b7e299fd-8b89-48b3-9e89-5bd4c7bd4453",
   "metadata": {},
   "outputs": [
    {
     "name": "stdout",
     "output_type": "stream",
     "text": [
      "hemanth\n",
      "1991867437936\n",
      "<class 'str'>\n"
     ]
    }
   ],
   "source": [
    "s=(\"hemanth\")\n",
    "print(s)\n",
    "print(id(s))\n",
    "print(type(s))\n"
   ]
  },
  {
   "cell_type": "code",
   "execution_count": 25,
   "id": "bffc9d0e-824f-4bbc-9aaa-a1432af89fdf",
   "metadata": {},
   "outputs": [
    {
     "name": "stdout",
     "output_type": "stream",
     "text": [
      "(10+3j)\n",
      "1991895086160\n",
      "<class 'complex'>\n"
     ]
    }
   ],
   "source": [
    "c=10+3j\n",
    "print(c)\n",
    "print(id(c))\n",
    "print(type(c))"
   ]
  },
  {
   "cell_type": "code",
   "execution_count": 30,
   "id": "9533bc67-76aa-4482-8b7d-562fcf96ea85",
   "metadata": {},
   "outputs": [
    {
     "name": "stdout",
     "output_type": "stream",
     "text": [
      "True\n",
      "140714426932072\n",
      "<class 'bool'>\n"
     ]
    }
   ],
   "source": [
    "b=True\n",
    "print(b)\n",
    "print(id(b))\n",
    "print(type(b))"
   ]
  },
  {
   "cell_type": "code",
   "execution_count": null,
   "id": "02d40c88-39e0-4e51-8fd4-b61e31ea3418",
   "metadata": {},
   "outputs": [],
   "source": []
  },
  {
   "cell_type": "code",
   "execution_count": null,
   "id": "a6e5267a-5da8-4d4d-a8da-f82bbaf16fbc",
   "metadata": {},
   "outputs": [],
   "source": []
  }
 ],
 "metadata": {
  "kernelspec": {
   "display_name": "Python 3 (ipykernel)",
   "language": "python",
   "name": "python3"
  },
  "language_info": {
   "codemirror_mode": {
    "name": "ipython",
    "version": 3
   },
   "file_extension": ".py",
   "mimetype": "text/x-python",
   "name": "python",
   "nbconvert_exporter": "python",
   "pygments_lexer": "ipython3",
   "version": "3.11.5"
  }
 },
 "nbformat": 4,
 "nbformat_minor": 5
}
