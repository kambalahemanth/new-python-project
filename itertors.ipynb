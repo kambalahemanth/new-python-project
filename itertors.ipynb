{
 "cells": [
  {
   "cell_type": "code",
   "execution_count": 1,
   "id": "73ca4b33-a191-4b11-af08-a3f3d5d78e4e",
   "metadata": {},
   "outputs": [
    {
     "name": "stdout",
     "output_type": "stream",
     "text": [
      "1\n",
      "2\n",
      "3\n",
      "4\n",
      "5\n",
      "6\n"
     ]
    }
   ],
   "source": [
    "#Iterators and Iterables\n",
    "#Every iterator is also an iterable but not every iterable is an iterator\n",
    "l = [1,2,3,4,5,6]    #list is an iterable\n",
    "for i in l:\n",
    "    print(i)"
   ]
  },
  {
   "cell_type": "code",
   "execution_count": 2,
   "id": "0298d112-ce13-4bb3-b44d-a967cccd1aa2",
   "metadata": {},
   "outputs": [
    {
     "name": "stdout",
     "output_type": "stream",
     "text": [
      "<list_iterator object at 0x0000022367F43E50>\n",
      "berlin\n",
      "bhimavaram\n",
      "vienna\n",
      "LasVegas\n"
     ]
    }
   ],
   "source": [
    "cities = ['berlin','bhimavaram','vienna','LasVegas']    #if --> io --> next()\n",
    "iterator_obj = iter(cities)\n",
    "print(iterator_obj)\n",
    "\n",
    "print(next(iterator_obj))\n",
    "print(next(iterator_obj))\n",
    "print(next(iterator_obj))\n",
    "print(next(iterator_obj))"
   ]
  },
  {
   "cell_type": "code",
   "execution_count": null,
   "id": "72378214-139e-4f52-a32d-820ae9eb1038",
   "metadata": {},
   "outputs": [],
   "source": []
  }
 ],
 "metadata": {
  "kernelspec": {
   "display_name": "Python 3 (ipykernel)",
   "language": "python",
   "name": "python3"
  },
  "language_info": {
   "codemirror_mode": {
    "name": "ipython",
    "version": 3
   },
   "file_extension": ".py",
   "mimetype": "text/x-python",
   "name": "python",
   "nbconvert_exporter": "python",
   "pygments_lexer": "ipython3",
   "version": "3.11.5"
  }
 },
 "nbformat": 4,
 "nbformat_minor": 5
}
