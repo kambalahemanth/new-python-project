{
 "cells": [
  {
   "cell_type": "code",
   "execution_count": 1,
   "id": "c73e0525-b2b1-4a9a-a44e-c1c1f434cafb",
   "metadata": {},
   "outputs": [
    {
     "name": "stdout",
     "output_type": "stream",
     "text": [
      "Hello\n"
     ]
    }
   ],
   "source": [
    "x=10\n",
    "if x==10:\n",
    "   print(\"Hello\")\n"
   ]
  },
  {
   "cell_type": "code",
   "execution_count": 5,
   "id": "eb58cc80-e69e-4efb-b9bd-8bd2fa451af8",
   "metadata": {},
   "outputs": [
    {
     "name": "stdout",
     "output_type": "stream",
     "text": [
      "1 is the firstgggg\n",
      "2 is the gggggggggggggggggggggggd\n"
     ]
    }
   ],
   "source": [
    "print (1,\"is the firstgggg\")\n",
    "print (2,\"is the gggggggggggggggggggggggd\")"
   ]
  },
  {
   "cell_type": "code",
   "execution_count": null,
   "id": "d6111d15-9afb-433d-b900-25a4ff6b2db3",
   "metadata": {},
   "outputs": [],
   "source": []
  },
  {
   "cell_type": "code",
   "execution_count": 33,
   "id": "c51f8dc4-8985-42b9-bfc1-fbdf6d7432a4",
   "metadata": {},
   "outputs": [
    {
     "name": "stdout",
     "output_type": "stream",
     "text": [
      "0.8333333333333334\n"
     ]
    }
   ],
   "source": [
    "print(5/6)"
   ]
  },
  {
   "cell_type": "code",
   "execution_count": 34,
   "id": "b0dc9a7b-85f3-4dbe-9921-fb0e337fd2a2",
   "metadata": {},
   "outputs": [
    {
     "name": "stdout",
     "output_type": "stream",
     "text": [
      "the fuction\n"
     ]
    },
    {
     "name": "stdin",
     "output_type": "stream",
     "text": [
      "enter the number1 5\n",
      "enter the number2 hemanth\n"
     ]
    },
    {
     "name": "stdout",
     "output_type": "stream",
     "text": [
      "value error\n",
      "the king\n"
     ]
    }
   ],
   "source": [
    "print(\"the fuction\")\n",
    "try:\n",
    "    x=int(input(\"enter the number1\"))\n",
    "    y=int(input(\"enter the number2\"))\n",
    "    print(x/y)\n",
    "    print(\"hemanth\"*ravi)\n",
    "except NameError:\n",
    "    print(\"name error\")\n",
    "except ZeroDivisionError:\n",
    "    print(\"this is hemanth\")\n",
    "except ValueError:\n",
    "    print(\"value error\")\n",
    "print(\"the king\")"
   ]
  },
  {
   "cell_type": "code",
   "execution_count": null,
   "id": "886abc8e-b045-4666-b064-211ffb186225",
   "metadata": {},
   "outputs": [],
   "source": []
  }
 ],
 "metadata": {
  "kernelspec": {
   "display_name": "Python 3 (ipykernel)",
   "language": "python",
   "name": "python3"
  },
  "language_info": {
   "codemirror_mode": {
    "name": "ipython",
    "version": 3
   },
   "file_extension": ".py",
   "mimetype": "text/x-python",
   "name": "python",
   "nbconvert_exporter": "python",
   "pygments_lexer": "ipython3",
   "version": "3.11.5"
  }
 },
 "nbformat": 4,
 "nbformat_minor": 5
}
