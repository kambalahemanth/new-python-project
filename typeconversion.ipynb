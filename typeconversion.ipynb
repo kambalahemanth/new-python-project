{
 "cells": [
  {
   "cell_type": "code",
   "execution_count": 4,
   "id": "83fd2358-fe65-46e6-b0d3-49b8e0e38ce8",
   "metadata": {},
   "outputs": [
    {
     "name": "stdout",
     "output_type": "stream",
     "text": [
      "type of i is: <class 'int'>\n",
      "converting int to float: 45.0\n",
      "converting int to complex: (45+0j)\n",
      "converting int to bool: True\n",
      "converting int to str: 45\n"
     ]
    }
   ],
   "source": [
    "#Type conversions\n",
    "i=45\n",
    "print(\"type of i is:\",type(i))\n",
    "print(\"converting int to float:\",float(i))\n",
    "print(\"converting int to complex:\",complex(i))\n",
    "print(\"converting int to bool:\",bool(i))\n",
    "print(\"converting int to str:\",str(i))\n"
   ]
  },
  {
   "cell_type": "code",
   "execution_count": 5,
   "id": "2dd12323-fb75-4442-80ee-a23c4554ee35",
   "metadata": {},
   "outputs": [
    {
     "name": "stdout",
     "output_type": "stream",
     "text": [
      "type of a is: <class 'float'>\n",
      "converting float to int: 10\n",
      "converting float to complex: (10.789+0j)\n",
      "converting float to bool: True\n",
      "converting float to str: 10.789\n"
     ]
    }
   ],
   "source": [
    "a=10.789\n",
    "print(\"type of a is:\",type(a))\n",
    "print(\"converting float to int:\",int(a))\n",
    "print(\"converting float to complex:\",complex(a))\n",
    "print(\"converting float to bool:\",bool(a))\n",
    "print(\"converting float to str:\",str(a))"
   ]
  },
  {
   "cell_type": "code",
   "execution_count": 6,
   "id": "55722b05-5349-4821-801e-281e229334cb",
   "metadata": {},
   "outputs": [
    {
     "name": "stdout",
     "output_type": "stream",
     "text": [
      "type of c is: <class 'complex'>\n",
      "converting complex to bool: True\n",
      "converting complex to str: (11+30j)\n"
     ]
    }
   ],
   "source": [
    "c = 11+30j\n",
    "print(\"type of c is:\",type(c))\n",
    "# print(\"converting complex to int:\",int(c))      # TypeError: can't convert complex to int\n",
    "# print(\"converting complex to float:\",float(c))    # TypeError: can't convert complex to float\n",
    "print(\"converting complex to bool:\",bool(c))\n",
    "print(\"converting complex to str:\",str(c))"
   ]
  },
  {
   "cell_type": "code",
   "execution_count": 7,
   "id": "5f5cf9dc-7686-4cb6-80fc-2beeeec3a5eb",
   "metadata": {},
   "outputs": [
    {
     "name": "stdout",
     "output_type": "stream",
     "text": [
      "type of b is: <class 'bool'>\n",
      "converting bool to int: 1\n",
      "converting bool to float: 1.0\n",
      "converting bool to complex: (1+0j)\n",
      "converting bool to str: True\n"
     ]
    }
   ],
   "source": [
    "b = True\n",
    "print(\"type of b is:\",type(b))\n",
    "print(\"converting bool to int:\",int(b))\n",
    "print(\"converting bool to float:\",float(b))\n",
    "print(\"converting bool to complex:\",complex(b))\n",
    "print(\"converting bool to str:\",str(b))"
   ]
  },
  {
   "cell_type": "code",
   "execution_count": 21,
   "id": "9d568f8d-ce6d-45d9-b381-5ff609d34ff9",
   "metadata": {},
   "outputs": [
    {
     "name": "stdout",
     "output_type": "stream",
     "text": [
      "type of s is: <class 'str'>\n",
      "converting string to int: 11\n",
      "converting string to float: 11.0\n",
      "converting string to bool: True\n"
     ]
    }
   ],
   "source": [
    "s = \"hemanth\"\n",
    "st = \"11\"\n",
    "f = \"10.30\"\n",
    "\n",
    "print(\"type of s is:\",type(s))\n",
    "#print(\"converting string to int:\",int(s))         # ValueError: invalid literal for int() with base 10: 'pawan'\n",
    "print(\"converting string to int:\",int(st))         # compulsory string should contain integral value and should be speicified\n",
    "                                                   #  in base-10\n",
    "#print(\"converting string to float:\",float(s))     # ValueError: could not convert string to float: 'pawan'\n",
    "print(\"converting string to float:\",float(st))\n",
    "#print(\"converting string to complex:\",complex()) # ValueError: complex() arg is a malformed string\n",
    "print(\"converting string to bool:\",bool(st))\n",
    "#type of b is: <class 'str'>"
   ]
  },
  {
   "cell_type": "code",
   "execution_count": null,
   "id": "09c76de0-0f37-4599-b203-e95fe30cbe17",
   "metadata": {},
   "outputs": [],
   "source": []
  }
 ],
 "metadata": {
  "kernelspec": {
   "display_name": "Python 3 (ipykernel)",
   "language": "python",
   "name": "python3"
  },
  "language_info": {
   "codemirror_mode": {
    "name": "ipython",
    "version": 3
   },
   "file_extension": ".py",
   "mimetype": "text/x-python",
   "name": "python",
   "nbconvert_exporter": "python",
   "pygments_lexer": "ipython3",
   "version": "3.11.5"
  }
 },
 "nbformat": 4,
 "nbformat_minor": 5
}
