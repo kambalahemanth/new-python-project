{
 "cells": [
  {
   "cell_type": "code",
   "execution_count": 5,
   "id": "8aa033da-b682-45da-9d72-baa177442702",
   "metadata": {},
   "outputs": [
    {
     "name": "stdout",
     "output_type": "stream",
     "text": [
      "13\n",
      "13 10\n"
     ]
    }
   ],
   "source": [
    "b=13\n",
    "\n",
    "def f1():\n",
    "    print(b)\n",
    "def f2():\n",
    "    a= 10\n",
    "    print(b,a)\n",
    "\n",
    "f1()\n",
    "f2()\n",
    "\n"
   ]
  },
  {
   "cell_type": "code",
   "execution_count": null,
   "id": "2095bcf4-f7a4-47ae-9a66-b62564ab0c09",
   "metadata": {},
   "outputs": [],
   "source": [
    "def f3():\n",
    "    a=12      #local variable\n",
    "    print(a)\n",
    "\n",
    "def f4():\n",
    "    print(a)"
   ]
  },
  {
   "cell_type": "code",
   "execution_count": null,
   "id": "0cba1972-2d43-40f4-8dd6-3e5e7f10f1f4",
   "metadata": {},
   "outputs": [],
   "source": [
    "f3()"
   ]
  },
  {
   "cell_type": "code",
   "execution_count": 6,
   "id": "13905e51-c803-47ed-a0ec-74e87b720ee0",
   "metadata": {},
   "outputs": [
    {
     "name": "stdout",
     "output_type": "stream",
     "text": [
      "777\n",
      "10\n"
     ]
    }
   ],
   "source": [
    "g=10\n",
    " \n",
    "def f1():\n",
    "    g=777\n",
    "    print(g)\n",
    "    \n",
    "def f2():\n",
    "    print(g)\n",
    "    \n",
    "f1()\n",
    "f2()"
   ]
  },
  {
   "cell_type": "code",
   "execution_count": 7,
   "id": "e9a61cc3-69f7-4c0c-bd76-f9d8e6c77f3b",
   "metadata": {},
   "outputs": [
    {
     "name": "stdout",
     "output_type": "stream",
     "text": [
      "30\n",
      "30\n"
     ]
    }
   ],
   "source": [
    "def f3():\n",
    "    global l\n",
    "    l=30\n",
    "    print(l)\n",
    "    \n",
    "    \n",
    "def f4():\n",
    "    print(l)\n",
    "    \n",
    "f3()\n",
    "f4()"
   ]
  },
  {
   "cell_type": "code",
   "execution_count": 29,
   "id": "28dc3712-3642-4038-ad6d-6061ca363142",
   "metadata": {},
   "outputs": [
    {
     "name": "stdout",
     "output_type": "stream",
     "text": [
      "local variable: 777\n",
      "global variable: 100\n",
      "global variable: 200\n",
      "a value 100\n",
      "b value 200\n"
     ]
    }
   ],
   "source": [
    "a=100\n",
    "b =200 #global\n",
    "\n",
    "def f1():\n",
    "    a=777 #local    \n",
    "    print(\"local variable:\",a)\n",
    "    print(\"global variable:\",globals()['a'])\n",
    "    print(\"global variable:\",b)\n",
    "    \n",
    "\n",
    "def f2():\n",
    "    print('a value',a)\n",
    "    print('b value',b)\n",
    "\n",
    "f1()\n",
    "f2()"
   ]
  },
  {
   "cell_type": "code",
   "execution_count": 25,
   "id": "992c7edf-711a-42d2-a492-ded72ddf343c",
   "metadata": {},
   "outputs": [
    {
     "name": "stdout",
     "output_type": "stream",
     "text": [
      "total amount in account :  15555\n",
      "hyderabad\n",
      "IC0N00005366\n",
      "customer pincode :  535671\n",
      "Bank pincode :  535671\n"
     ]
    }
   ],
   "source": [
    "bank = \"icic\"\n",
    "ifsc = \"IC0N00005366\"\n",
    "place = \"hyderabad\"\n",
    "pincode = 535671\n",
    "\n",
    "def customer1(credit):\n",
    "    bal = 10000\n",
    "    global total\n",
    "    total = bal+credit\n",
    "    \n",
    "    global branch\n",
    "    branch = \"ADB\"\n",
    "    \n",
    "    pincode = 535671\n",
    "    \n",
    "    print(\"total amount in account : \",total)\n",
    "    print(place)\n",
    "    print(ifsc)\n",
    "    print(\"customer pincode : \",pincode)\n",
    "    print(\"Bank pincode : \",globals()['pincode'])\n",
    "    \n",
    "def customer2():\n",
    "    print(\"total:\", globals()['total'])\n",
    "    print(branch)\n",
    "\n",
    "customer1(5555)\n",
    "    "
   ]
  },
  {
   "cell_type": "code",
   "execution_count": null,
   "id": "6ca26f13-55aa-4b53-81a6-ba2e71049c70",
   "metadata": {},
   "outputs": [],
   "source": []
  },
  {
   "cell_type": "code",
   "execution_count": 11,
   "id": "790c39ea-d7b0-4dcd-83e8-013ba7114140",
   "metadata": {},
   "outputs": [
    {
     "data": {
      "text/plain": [
       "81"
      ]
     },
     "execution_count": 11,
     "metadata": {},
     "output_type": "execute_result"
    }
   ],
   "source": [
    "def squareIt(n):         #Anonymous Functions\n",
    "    return n*n\n",
    "\n",
    "squareIt(9)"
   ]
  },
  {
   "cell_type": "code",
   "execution_count": 13,
   "id": "8fb5e89d-1575-4175-bc1e-54e12bfcf8f7",
   "metadata": {},
   "outputs": [
    {
     "data": {
      "text/plain": [
       "9"
      ]
     },
     "execution_count": 13,
     "metadata": {},
     "output_type": "execute_result"
    }
   ],
   "source": [
    "# Ex:1\n",
    "s = lambda n: n*n\n",
    "s(3)"
   ]
  },
  {
   "cell_type": "code",
   "execution_count": 14,
   "id": "195e7a62-7069-449b-8914-5651c55632ae",
   "metadata": {},
   "outputs": [
    {
     "data": {
      "text/plain": [
       "50"
      ]
     },
     "execution_count": 14,
     "metadata": {},
     "output_type": "execute_result"
    }
   ],
   "source": [
    "#Ex:2\n",
    "s = lambda a,b:a+b\n",
    "s(20,30)"
   ]
  },
  {
   "cell_type": "code",
   "execution_count": 15,
   "id": "8227dd79-97a3-45e3-b1a7-b8efcc841532",
   "metadata": {},
   "outputs": [
    {
     "name": "stdout",
     "output_type": "stream",
     "text": [
      "30\n"
     ]
    }
   ],
   "source": [
    "a=20\n",
    "b=30\n",
    "if a>b:\n",
    "    print(a)\n",
    "else:\n",
    "    print(b)"
   ]
  },
  {
   "cell_type": "code",
   "execution_count": null,
   "id": "11433599-dc68-47f2-8d8e-95ed64647835",
   "metadata": {},
   "outputs": [],
   "source": []
  },
  {
   "cell_type": "code",
   "execution_count": null,
   "id": "da3407d2-965f-426a-8448-4a83fb4c2c45",
   "metadata": {},
   "outputs": [],
   "source": []
  },
  {
   "cell_type": "code",
   "execution_count": 32,
   "id": "c44f7740-3637-4862-905a-df4ab17601ac",
   "metadata": {},
   "outputs": [
    {
     "name": "stdout",
     "output_type": "stream",
     "text": [
      "2348523749440\n",
      "2348523749440\n",
      "hello hemanth\n"
     ]
    }
   ],
   "source": [
    "def f1():                         #Function Aliasing\n",
    "    print(\"hello hemanth\")\n",
    "f2=f1\n",
    "print(id(f1))\n",
    "print(id(f2))\n",
    "f2()"
   ]
  },
  {
   "cell_type": "code",
   "execution_count": 51,
   "id": "c4950ce2-2383-47f5-b31b-191d958322d0",
   "metadata": {},
   "outputs": [
    {
     "name": "stdout",
     "output_type": "stream",
     "text": [
      "Good Morning hemanth\n"
     ]
    }
   ],
   "source": [
    "\n",
    "def wish(name):\n",
    "    print(\"Good Morning\",name)\n",
    "    \n",
    "greeting = wish        #aliasing\n",
    "\n",
    "greeting(\"hemanth\")\n"
   ]
  },
  {
   "cell_type": "code",
   "execution_count": 54,
   "id": "fb634de4-53f9-4413-bcc8-798518592eb7",
   "metadata": {},
   "outputs": [
    {
     "name": "stdout",
     "output_type": "stream",
     "text": [
      "1.outer function started\n",
      "3.outer function calling inner function\n",
      "2.inner function started\n"
     ]
    }
   ],
   "source": [
    "\n",
    "def outer():                                     #nested\n",
    "    print(\"1.outer function started\")\n",
    "    def inner():\n",
    "        print(\"2.inner function started\")\n",
    "    print(\"3.outer function calling inner function\")\n",
    "    inner()\n",
    "\n",
    "outer()"
   ]
  },
  {
   "cell_type": "code",
   "execution_count": 60,
   "id": "d23bec10-b797-443a-aa85-87dc1fd4a5a2",
   "metadata": {},
   "outputs": [
    {
     "name": "stdout",
     "output_type": "stream",
     "text": [
      "outer function started\n",
      "outer fuction returning inner function\n",
      "inner function execution\n"
     ]
    }
   ],
   "source": [
    "def outer():\n",
    "    print(\"outer function started\")\n",
    "    def inner():\n",
    "        print(\"inner function execution\")\n",
    "    print(\"outer fuction returning inner function\")\n",
    "    return inner\n",
    "\n",
    "i=outer()\n",
    "i()\n",
    "\n",
    "    "
   ]
  },
  {
   "cell_type": "code",
   "execution_count": null,
   "id": "743b8854-4e56-49de-9ecc-d921826cabed",
   "metadata": {},
   "outputs": [],
   "source": []
  }
 ],
 "metadata": {
  "kernelspec": {
   "display_name": "Python 3 (ipykernel)",
   "language": "python",
   "name": "python3"
  },
  "language_info": {
   "codemirror_mode": {
    "name": "ipython",
    "version": 3
   },
   "file_extension": ".py",
   "mimetype": "text/x-python",
   "name": "python",
   "nbconvert_exporter": "python",
   "pygments_lexer": "ipython3",
   "version": "3.11.5"
  }
 },
 "nbformat": 4,
 "nbformat_minor": 5
}
