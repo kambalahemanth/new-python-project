{
 "cells": [
  {
   "cell_type": "code",
   "execution_count": 14,
   "id": "8aa033da-b682-45da-9d72-baa177442702",
   "metadata": {},
   "outputs": [
    {
     "name": "stdout",
     "output_type": "stream",
     "text": [
      "13\n"
     ]
    }
   ],
   "source": [
    "b=13\n",
    "\n",
    "def f1():\n",
    "    print(b)\n",
    "def f2():\n",
    "    a= 10\n",
    "    print(b,a)\n",
    "\n",
    "f1()\n",
    "\n"
   ]
  },
  {
   "cell_type": "code",
   "execution_count": null,
   "id": "2095bcf4-f7a4-47ae-9a66-b62564ab0c09",
   "metadata": {},
   "outputs": [],
   "source": [
    "def f3():\n",
    "    a=12      #local variable\n",
    "    print(a)\n",
    "\n",
    "def f4():\n",
    "    print(a)"
   ]
  },
  {
   "cell_type": "code",
   "execution_count": null,
   "id": "0cba1972-2d43-40f4-8dd6-3e5e7f10f1f4",
   "metadata": {},
   "outputs": [],
   "source": [
    "f3()"
   ]
  },
  {
   "cell_type": "code",
   "execution_count": 6,
   "id": "13905e51-c803-47ed-a0ec-74e87b720ee0",
   "metadata": {},
   "outputs": [
    {
     "name": "stdout",
     "output_type": "stream",
     "text": [
      "777\n",
      "10\n"
     ]
    }
   ],
   "source": [
    "g=10\n",
    " \n",
    "def f1():\n",
    "    g=777\n",
    "    print(g)\n",
    "    \n",
    "def f2():\n",
    "    print(g)\n",
    "    \n",
    "f1()\n",
    "f2()"
   ]
  },
  {
   "cell_type": "code",
   "execution_count": 7,
   "id": "e9a61cc3-69f7-4c0c-bd76-f9d8e6c77f3b",
   "metadata": {},
   "outputs": [
    {
     "name": "stdout",
     "output_type": "stream",
     "text": [
      "30\n",
      "30\n"
     ]
    }
   ],
   "source": [
    "def f3():\n",
    "    global l\n",
    "    l=30\n",
    "    print(l)\n",
    "    \n",
    "    \n",
    "def f4():\n",
    "    print(l)\n",
    "    \n",
    "f3()\n",
    "f4()"
   ]
  },
  {
   "cell_type": "code",
   "execution_count": 29,
   "id": "28dc3712-3642-4038-ad6d-6061ca363142",
   "metadata": {},
   "outputs": [
    {
     "name": "stdout",
     "output_type": "stream",
     "text": [
      "local variable: 777\n",
      "global variable: 100\n",
      "global variable: 200\n",
      "a value 100\n",
      "b value 200\n"
     ]
    }
   ],
   "source": [
    "a=100\n",
    "b =200 #global\n",
    "\n",
    "def f1():\n",
    "    a=777 #local    \n",
    "    print(\"local variable:\",a)\n",
    "    print(\"global variable:\",globals()['a'])\n",
    "    print(\"global variable:\",b)\n",
    "    \n",
    "\n",
    "def f2():\n",
    "    print('a value',a)\n",
    "    print('b value',b)\n",
    "\n",
    "f1()\n",
    "f2()"
   ]
  },
  {
   "cell_type": "code",
   "execution_count": 25,
   "id": "992c7edf-711a-42d2-a492-ded72ddf343c",
   "metadata": {},
   "outputs": [
    {
     "name": "stdout",
     "output_type": "stream",
     "text": [
      "total amount in account :  15555\n",
      "hyderabad\n",
      "IC0N00005366\n",
      "customer pincode :  535671\n",
      "Bank pincode :  535671\n"
     ]
    }
   ],
   "source": [
    "bank = \"icic\"\n",
    "ifsc = \"IC0N00005366\"\n",
    "place = \"hyderabad\"\n",
    "pincode = 535671\n",
    "\n",
    "def customer1(credit):\n",
    "    bal = 10000\n",
    "    global total\n",
    "    total = bal+credit\n",
    "    \n",
    "    global branch\n",
    "    branch = \"ADB\"\n",
    "    \n",
    "    pincode = 535671\n",
    "    \n",
    "    print(\"total amount in account : \",total)\n",
    "    print(place)\n",
    "    print(ifsc)\n",
    "    print(\"customer pincode : \",pincode)\n",
    "    print(\"Bank pincode : \",globals()['pincode'])\n",
    "    \n",
    "def customer2():\n",
    "    print(\"total:\", globals()['total'])\n",
    "    print(branch)\n",
    "\n",
    "customer1(5555)\n",
    "    "
   ]
  },
  {
   "cell_type": "code",
   "execution_count": null,
   "id": "6ca26f13-55aa-4b53-81a6-ba2e71049c70",
   "metadata": {},
   "outputs": [],
   "source": []
  },
  {
   "cell_type": "code",
   "execution_count": 11,
   "id": "790c39ea-d7b0-4dcd-83e8-013ba7114140",
   "metadata": {},
   "outputs": [
    {
     "data": {
      "text/plain": [
       "81"
      ]
     },
     "execution_count": 11,
     "metadata": {},
     "output_type": "execute_result"
    }
   ],
   "source": [
    "def squareIt(n):         #Anonymous Functions\n",
    "    return n*n\n",
    "\n",
    "squareIt(9)"
   ]
  },
  {
   "cell_type": "code",
   "execution_count": 13,
   "id": "8fb5e89d-1575-4175-bc1e-54e12bfcf8f7",
   "metadata": {},
   "outputs": [
    {
     "data": {
      "text/plain": [
       "9"
      ]
     },
     "execution_count": 13,
     "metadata": {},
     "output_type": "execute_result"
    }
   ],
   "source": [
    "# Ex:1\n",
    "s = lambda n: n*n\n",
    "s(3)"
   ]
  },
  {
   "cell_type": "code",
   "execution_count": 14,
   "id": "195e7a62-7069-449b-8914-5651c55632ae",
   "metadata": {},
   "outputs": [
    {
     "data": {
      "text/plain": [
       "50"
      ]
     },
     "execution_count": 14,
     "metadata": {},
     "output_type": "execute_result"
    }
   ],
   "source": [
    "#Ex:2\n",
    "s = lambda a,b:a+b\n",
    "s(20,30)"
   ]
  },
  {
   "cell_type": "code",
   "execution_count": 15,
   "id": "8227dd79-97a3-45e3-b1a7-b8efcc841532",
   "metadata": {},
   "outputs": [
    {
     "name": "stdout",
     "output_type": "stream",
     "text": [
      "30\n"
     ]
    }
   ],
   "source": [
    "a=20\n",
    "b=30\n",
    "if a>b:\n",
    "    print(a)\n",
    "else:\n",
    "    print(b)"
   ]
  },
  {
   "cell_type": "code",
   "execution_count": null,
   "id": "11433599-dc68-47f2-8d8e-95ed64647835",
   "metadata": {},
   "outputs": [],
   "source": []
  },
  {
   "cell_type": "code",
   "execution_count": null,
   "id": "da3407d2-965f-426a-8448-4a83fb4c2c45",
   "metadata": {},
   "outputs": [],
   "source": []
  },
  {
   "cell_type": "code",
   "execution_count": 32,
   "id": "c44f7740-3637-4862-905a-df4ab17601ac",
   "metadata": {},
   "outputs": [
    {
     "name": "stdout",
     "output_type": "stream",
     "text": [
      "2348523749440\n",
      "2348523749440\n",
      "hello hemanth\n"
     ]
    }
   ],
   "source": [
    "def f1():                         #Function Aliasing\n",
    "    print(\"hello hemanth\")\n",
    "f2=f1\n",
    "print(id(f1))\n",
    "print(id(f2))\n",
    "f2()"
   ]
  },
  {
   "cell_type": "code",
   "execution_count": 51,
   "id": "c4950ce2-2383-47f5-b31b-191d958322d0",
   "metadata": {},
   "outputs": [
    {
     "name": "stdout",
     "output_type": "stream",
     "text": [
      "Good Morning hemanth\n"
     ]
    }
   ],
   "source": [
    "\n",
    "def wish(name):\n",
    "    print(\"Good Morning\",name)\n",
    "    \n",
    "greeting = wish        #aliasing\n",
    "\n",
    "greeting(\"hemanth\")\n"
   ]
  },
  {
   "cell_type": "code",
   "execution_count": 54,
   "id": "fb634de4-53f9-4413-bcc8-798518592eb7",
   "metadata": {},
   "outputs": [
    {
     "name": "stdout",
     "output_type": "stream",
     "text": [
      "1.outer function started\n",
      "3.outer function calling inner function\n",
      "2.inner function started\n"
     ]
    }
   ],
   "source": [
    "\n",
    "def outer():                                     #nested\n",
    "    print(\"1.outer function started\")\n",
    "    def inner():\n",
    "        print(\"2.inner function started\")\n",
    "    print(\"3.outer function calling inner function\")\n",
    "    inner()\n",
    "\n",
    "outer()"
   ]
  },
  {
   "cell_type": "code",
   "execution_count": 9,
   "id": "d23bec10-b797-443a-aa85-87dc1fd4a5a2",
   "metadata": {},
   "outputs": [
    {
     "name": "stdout",
     "output_type": "stream",
     "text": [
      "outer function started\n",
      "outer fuction returning inner function\n",
      "inner function execution\n"
     ]
    }
   ],
   "source": [
    "def outer():\n",
    "    print(\"outer function started\")\n",
    "    def inner():\n",
    "        print(\"inner function execution\")\n",
    "    print(\"outer fuction returning inner function\")\n",
    "    return inner\n",
    "\n",
    "u=outer()\n",
    "u()\n",
    "\n",
    "    "
   ]
  },
  {
   "cell_type": "code",
   "execution_count": 4,
   "id": "743b8854-4e56-49de-9ecc-d921826cabed",
   "metadata": {},
   "outputs": [
    {
     "data": {
      "text/plain": [
       "24"
      ]
     },
     "execution_count": 4,
     "metadata": {},
     "output_type": "execute_result"
    }
   ],
   "source": [
    "# without recursive\n",
    "def fac(num):\n",
    "    result=1\n",
    "    while num>=1:\n",
    "        result = result*num\n",
    "        num=num-1\n",
    "    return result\n",
    "fac(4)"
   ]
  },
  {
   "cell_type": "code",
   "execution_count": 13,
   "id": "f260a0ce-f816-4fa9-971e-25236fd34cd5",
   "metadata": {},
   "outputs": [
    {
     "data": {
      "text/plain": [
       "120"
      ]
     },
     "execution_count": 13,
     "metadata": {},
     "output_type": "execute_result"
    }
   ],
   "source": [
    "# with recursive\n",
    "#factorial(3) = 3*factorial(2) = 3*2*factorial(1)\n",
    "def factorial(n):\n",
    "    if n==0:\n",
    "        result=1\n",
    "    else:\n",
    "        result = n*factorial(n-1)\n",
    "    return result\n",
    "factorial(5) \n"
   ]
  },
  {
   "cell_type": "raw",
   "id": "7d672c94-ef6f-44bc-891d-db67bf5dae3b",
   "metadata": {},
   "source": [
    "# mrf means map reduce fil\n",
    "\n"
   ]
  },
  {
   "cell_type": "code",
   "execution_count": 1,
   "id": "c891ec80-af97-4c26-921f-1b8f2e4ce2be",
   "metadata": {},
   "outputs": [
    {
     "data": {
      "text/plain": [
       "8"
      ]
     },
     "execution_count": 1,
     "metadata": {},
     "output_type": "execute_result"
    }
   ],
   "source": [
    "def mrf(a):\n",
    "    return a*2\n",
    "\n",
    "mrf(4)"
   ]
  },
  {
   "cell_type": "code",
   "execution_count": 8,
   "id": "e2ee3e7c-0ca1-47fc-b289-0d0aef57af74",
   "metadata": {},
   "outputs": [],
   "source": [
    "\n",
    "\n",
    "r=[1,2,3,4,5,6,7,8]\n",
    "\n"
   ]
  },
  {
   "cell_type": "code",
   "execution_count": 9,
   "id": "8a571408-8e6c-46b3-954b-36a1d5384bb1",
   "metadata": {},
   "outputs": [
    {
     "data": {
      "text/plain": [
       "[2, 4, 6, 8, 10, 12, 14, 16]"
      ]
     },
     "execution_count": 9,
     "metadata": {},
     "output_type": "execute_result"
    }
   ],
   "source": [
    "fun=[]\n",
    "for i in r:\n",
    "    fun.append(mrf(i))\n",
    "   \n",
    "fun"
   ]
  },
  {
   "cell_type": "code",
   "execution_count": 10,
   "id": "e947b8e7-0801-4484-bd51-dc6bb4184653",
   "metadata": {},
   "outputs": [
    {
     "data": {
      "text/plain": [
       "14"
      ]
     },
     "execution_count": 10,
     "metadata": {},
     "output_type": "execute_result"
    }
   ],
   "source": [
    "mrf(7)"
   ]
  },
  {
   "cell_type": "code",
   "execution_count": 19,
   "id": "b51dd8d0-cbb2-4dd8-b3b0-44a4fe2ea52b",
   "metadata": {},
   "outputs": [
    {
     "data": {
      "text/plain": [
       "[2, 4, 6, 8, 10, 12, 14, 16]"
      ]
     },
     "execution_count": 19,
     "metadata": {},
     "output_type": "execute_result"
    }
   ],
   "source": [
    "fun"
   ]
  },
  {
   "cell_type": "code",
   "execution_count": 20,
   "id": "eb4fc87d-9801-4d8a-ad65-8417af922447",
   "metadata": {},
   "outputs": [
    {
     "data": {
      "text/plain": [
       "[2, 4, 6, 8, 10, 12, 14, 16]"
      ]
     },
     "execution_count": 20,
     "metadata": {},
     "output_type": "execute_result"
    }
   ],
   "source": [
    "set(map(mrf,r))\n",
    "fun\n"
   ]
  },
  {
   "cell_type": "code",
   "execution_count": 21,
   "id": "fce20262-199d-4e07-84d7-23ca1ad61913",
   "metadata": {},
   "outputs": [
    {
     "data": {
      "text/plain": [
       "[6, 12, 18, 24, 30, 36, 42, 48]"
      ]
     },
     "execution_count": 21,
     "metadata": {},
     "output_type": "execute_result"
    }
   ],
   "source": [
    "list(map(lambda s:s*3,fun))"
   ]
  },
  {
   "cell_type": "code",
   "execution_count": 27,
   "id": "b7dd507a-8e01-444d-8f3c-c678820a23ff",
   "metadata": {},
   "outputs": [],
   "source": [
    "def fer(t):\n",
    "    x=float(9/5)*t+32\n",
    "    return x"
   ]
  },
  {
   "cell_type": "code",
   "execution_count": 26,
   "id": "b8dd6f30-0035-4fa0-9df3-7f9e3589491f",
   "metadata": {},
   "outputs": [
    {
     "data": {
      "text/plain": [
       "114.2"
      ]
     },
     "execution_count": 26,
     "metadata": {},
     "output_type": "execute_result"
    }
   ],
   "source": [
    "fer(44)"
   ]
  },
  {
   "cell_type": "code",
   "execution_count": 28,
   "id": "0881a6df-75e1-4367-a8d7-f745d807943c",
   "metadata": {},
   "outputs": [
    {
     "data": {
      "text/plain": [
       "[2, 4, 6, 8, 10, 12, 14, 16]"
      ]
     },
     "execution_count": 28,
     "metadata": {},
     "output_type": "execute_result"
    }
   ],
   "source": [
    "fun"
   ]
  },
  {
   "cell_type": "code",
   "execution_count": 29,
   "id": "14528124-f88f-45c9-ac02-69f31dffdcda",
   "metadata": {},
   "outputs": [],
   "source": [
    "fun.append(35.5)"
   ]
  },
  {
   "cell_type": "code",
   "execution_count": 30,
   "id": "11bed1ad-dd91-4a87-b9c0-a0ce7f45bde5",
   "metadata": {},
   "outputs": [
    {
     "data": {
      "text/plain": [
       "[2, 4, 6, 8, 10, 12, 14, 16, 35.5]"
      ]
     },
     "execution_count": 30,
     "metadata": {},
     "output_type": "execute_result"
    }
   ],
   "source": [
    "fun"
   ]
  },
  {
   "cell_type": "code",
   "execution_count": 31,
   "id": "12bd8398-b3f6-4846-b652-8a3499462956",
   "metadata": {},
   "outputs": [],
   "source": [
    "tem = fun"
   ]
  },
  {
   "cell_type": "code",
   "execution_count": 32,
   "id": "7becc30a-5971-4515-9121-b835e30b8478",
   "metadata": {},
   "outputs": [
    {
     "data": {
      "text/plain": [
       "[2, 4, 6, 8, 10, 12, 14, 16, 35.5]"
      ]
     },
     "execution_count": 32,
     "metadata": {},
     "output_type": "execute_result"
    }
   ],
   "source": [
    "tem"
   ]
  },
  {
   "cell_type": "code",
   "execution_count": 35,
   "id": "bf8eabde-13cf-47ce-b1d6-a1a37165ce8f",
   "metadata": {},
   "outputs": [
    {
     "data": {
      "text/plain": [
       "[35.6, 39.2, 42.8, 46.4, 50.0, 53.6, 57.2, 60.8, 95.9]"
      ]
     },
     "execution_count": 35,
     "metadata": {},
     "output_type": "execute_result"
    }
   ],
   "source": [
    "forh=[]\n",
    "for i in tem:\n",
    "    forh.append(fer(i))\n",
    "\n",
    "forh"
   ]
  },
  {
   "cell_type": "code",
   "execution_count": null,
   "id": "d440f441-29b9-4049-820d-74d04cd47fb1",
   "metadata": {},
   "outputs": [],
   "source": []
  },
  {
   "cell_type": "code",
   "execution_count": 36,
   "id": "79c57e43-067b-43e7-b20a-5930680387a7",
   "metadata": {},
   "outputs": [],
   "source": [
    "def cel(y):\n",
    "    x=((y-32)*float(5/9))\n",
    "    return x"
   ]
  },
  {
   "cell_type": "code",
   "execution_count": 37,
   "id": "a6fa4195-f31f-4f13-93df-496f7ef55117",
   "metadata": {},
   "outputs": [
    {
     "data": {
      "text/plain": [
       "10.0"
      ]
     },
     "execution_count": 37,
     "metadata": {},
     "output_type": "execute_result"
    }
   ],
   "source": [
    "cel(50)"
   ]
  },
  {
   "cell_type": "code",
   "execution_count": 38,
   "id": "82c41be1-b651-4221-ba34-c829d17f6761",
   "metadata": {},
   "outputs": [],
   "source": [
    "ce=[]\n",
    "for i in tem:\n",
    "    ce.append(cel(i))"
   ]
  },
  {
   "cell_type": "code",
   "execution_count": 39,
   "id": "5255da0c-94bd-4e88-8646-02c57f43ecab",
   "metadata": {},
   "outputs": [
    {
     "data": {
      "text/plain": [
       "[-16.666666666666668,\n",
       " -15.555555555555557,\n",
       " -14.444444444444445,\n",
       " -13.333333333333334,\n",
       " -12.222222222222223,\n",
       " -11.11111111111111,\n",
       " -10.0,\n",
       " -8.88888888888889,\n",
       " 1.9444444444444446]"
      ]
     },
     "execution_count": 39,
     "metadata": {},
     "output_type": "execute_result"
    }
   ],
   "source": []
  },
  {
   "cell_type": "code",
   "execution_count": 49,
   "id": "08ddd928-ebff-49ec-8e10-1d2ac40e35e9",
   "metadata": {},
   "outputs": [
    {
     "data": {
      "text/plain": [
       "[35.6, 39.2, 42.8, 46.4, 50.0, 53.6, 57.2, 60.8, 95.9]"
      ]
     },
     "execution_count": 49,
     "metadata": {},
     "output_type": "execute_result"
    }
   ],
   "source": [
    "list(map(lambda f:float(9/5)*f+32,tem))"
   ]
  },
  {
   "cell_type": "code",
   "execution_count": 48,
   "id": "3f89f8b1-9492-43d3-8bfe-5a7de5e1daed",
   "metadata": {},
   "outputs": [
    {
     "data": {
      "text/plain": [
       "[-16.666666666666668,\n",
       " -15.555555555555557,\n",
       " -14.444444444444445,\n",
       " -13.333333333333334,\n",
       " -12.222222222222223,\n",
       " -11.11111111111111,\n",
       " -10.0,\n",
       " -8.88888888888889,\n",
       " 1.9444444444444446]"
      ]
     },
     "execution_count": 48,
     "metadata": {},
     "output_type": "execute_result"
    }
   ],
   "source": [
    "list(map(lambda c:(c-32)*float(5/9),tem))"
   ]
  },
  {
   "cell_type": "code",
   "execution_count": 56,
   "id": "6eb510b4-e74a-482e-a743-6c2f2c76dfc2",
   "metadata": {},
   "outputs": [
    {
     "data": {
      "text/plain": [
       "['hemanth', 'kambala', 'naidu']"
      ]
     },
     "execution_count": 56,
     "metadata": {},
     "output_type": "execute_result"
    }
   ],
   "source": [
    "l=[\"Hemanth\",\"Kambala\",\"Naidu\"]\n",
    "lo=[]\n",
    "for i in l:\n",
    "    lo.append(i.lower())\n",
    "\n",
    "lo\n"
   ]
  },
  {
   "cell_type": "code",
   "execution_count": 58,
   "id": "1afb25ed-5c68-4f13-b04c-07214072f158",
   "metadata": {},
   "outputs": [],
   "source": [
    "l=[\"Hemanth\",\"Kambala\",\"Naidu\"]\n",
    "lu=[]\n",
    "for i in l:\n",
    "    lu.append(i.upper())\n"
   ]
  },
  {
   "cell_type": "code",
   "execution_count": 59,
   "id": "632009bb-1978-4c0a-a77f-e44c952233df",
   "metadata": {},
   "outputs": [
    {
     "data": {
      "text/plain": [
       "['HEMANTH', 'KAMBALA', 'NAIDU']"
      ]
     },
     "execution_count": 59,
     "metadata": {},
     "output_type": "execute_result"
    }
   ],
   "source": [
    "lu"
   ]
  },
  {
   "cell_type": "code",
   "execution_count": 64,
   "id": "f7637f77-6e3c-464d-a3c2-c35c01727247",
   "metadata": {},
   "outputs": [],
   "source": [
    "def upp(k):\n",
    "    return k.upper()"
   ]
  },
  {
   "cell_type": "code",
   "execution_count": 67,
   "id": "cd5b635b-bcec-4db8-af99-db6dcbf9e976",
   "metadata": {},
   "outputs": [
    {
     "data": {
      "text/plain": [
       "['HEMANTH', 'KAMBALA', 'NAIDU']"
      ]
     },
     "execution_count": 67,
     "metadata": {},
     "output_type": "execute_result"
    }
   ],
   "source": [
    "list(map(upp,l))"
   ]
  },
  {
   "cell_type": "code",
   "execution_count": 69,
   "id": "89f108d4-f34c-4ebe-8e70-714fa1ce9a67",
   "metadata": {},
   "outputs": [
    {
     "data": {
      "text/plain": [
       "[4, 16, 36, 64, 100, 144, 196, 256, 1260.25]"
      ]
     },
     "execution_count": 69,
     "metadata": {},
     "output_type": "execute_result"
    }
   ],
   "source": [
    "list(map(lambda r:r*r,tem))           #list squence"
   ]
  },
  {
   "cell_type": "code",
   "execution_count": 70,
   "id": "96bf9581-23c1-4284-a121-944796b19d26",
   "metadata": {},
   "outputs": [
    {
     "data": {
      "text/plain": [
       "(4, 16, 36, 64, 100, 144, 196, 256, 1260.25)"
      ]
     },
     "execution_count": 70,
     "metadata": {},
     "output_type": "execute_result"
    }
   ],
   "source": [
    "tuple(map(lambda r:r*r,tem))"
   ]
  },
  {
   "cell_type": "code",
   "execution_count": 71,
   "id": "35f67af4-cbb8-4633-b520-afbf39013548",
   "metadata": {},
   "outputs": [
    {
     "data": {
      "text/plain": [
       "{4, 16, 36, 64, 100, 144, 196, 256, 1260.25}"
      ]
     },
     "execution_count": 71,
     "metadata": {},
     "output_type": "execute_result"
    }
   ],
   "source": [
    "set(map(lambda r:r*r,tem))"
   ]
  },
  {
   "cell_type": "code",
   "execution_count": 72,
   "id": "351d984d-15d9-4c9f-887d-300aad49225a",
   "metadata": {},
   "outputs": [
    {
     "data": {
      "text/plain": [
       "'<map object at 0x0000019A4E1AC8B0>'"
      ]
     },
     "execution_count": 72,
     "metadata": {},
     "output_type": "execute_result"
    }
   ],
   "source": [
    "str(map(lambda r:r*r,tem))"
   ]
  },
  {
   "cell_type": "code",
   "execution_count": 73,
   "id": "d1b7bb0b-b708-49e5-bd3d-38c8068776d5",
   "metadata": {},
   "outputs": [],
   "source": [
    "# tuple \n",
    "t=(2,3,4,5,8,9)"
   ]
  },
  {
   "cell_type": "code",
   "execution_count": 74,
   "id": "1d3ce901-4427-4ac8-87fa-300d967ae038",
   "metadata": {},
   "outputs": [
    {
     "data": {
      "text/plain": [
       "(4, 9, 16, 25, 64, 81)"
      ]
     },
     "execution_count": 74,
     "metadata": {},
     "output_type": "execute_result"
    }
   ],
   "source": [
    "tuple(map(lambda r:r*r,t))"
   ]
  },
  {
   "cell_type": "code",
   "execution_count": 75,
   "id": "be3f5b18-5395-49be-8cb7-c6b46a7f18c7",
   "metadata": {},
   "outputs": [
    {
     "data": {
      "text/plain": [
       "{4, 16, 36, 64, 100, 144, 196, 256, 1260.25}"
      ]
     },
     "execution_count": 75,
     "metadata": {},
     "output_type": "execute_result"
    }
   ],
   "source": [
    "set(map(lambda r:r*r,tem))"
   ]
  },
  {
   "cell_type": "code",
   "execution_count": 76,
   "id": "b0450851-20fe-440b-9254-2bb3be9f0bfa",
   "metadata": {},
   "outputs": [
    {
     "data": {
      "text/plain": [
       "[4, 16, 36, 64, 100, 144, 196, 256, 1260.25]"
      ]
     },
     "execution_count": 76,
     "metadata": {},
     "output_type": "execute_result"
    }
   ],
   "source": [
    "list(map(lambda r:r*r,tem))"
   ]
  },
  {
   "cell_type": "code",
   "execution_count": 77,
   "id": "7efeb70b-78d0-4f39-b0ff-5709fec8fa75",
   "metadata": {},
   "outputs": [
    {
     "data": {
      "text/plain": [
       "'<map object at 0x0000019A4E1ADD80>'"
      ]
     },
     "execution_count": 77,
     "metadata": {},
     "output_type": "execute_result"
    }
   ],
   "source": [
    "str(map(lambda r:r*r,tem))"
   ]
  },
  {
   "cell_type": "code",
   "execution_count": 79,
   "id": "08b492a9-6b58-4f69-89b7-574799398cad",
   "metadata": {},
   "outputs": [
    {
     "data": {
      "text/plain": [
       "{4, 16, 25, 36, 64, 81}"
      ]
     },
     "execution_count": 79,
     "metadata": {},
     "output_type": "execute_result"
    }
   ],
   "source": [
    "#set\n",
    "\n",
    "s={2,4,5,6,9,8}\n",
    "set(map(lambda r:r*r,s))"
   ]
  },
  {
   "cell_type": "code",
   "execution_count": 80,
   "id": "533bb7fe-42f0-4c46-9efd-895854cb7fd4",
   "metadata": {},
   "outputs": [
    {
     "data": {
      "text/plain": [
       "[4, 16, 25, 36, 64, 81]"
      ]
     },
     "execution_count": 80,
     "metadata": {},
     "output_type": "execute_result"
    }
   ],
   "source": [
    "list(map(lambda r:r*r,s))"
   ]
  },
  {
   "cell_type": "code",
   "execution_count": 81,
   "id": "4c046395-22f4-4851-8f4b-b241176d1fb1",
   "metadata": {},
   "outputs": [
    {
     "data": {
      "text/plain": [
       "(4, 16, 25, 36, 64, 81)"
      ]
     },
     "execution_count": 81,
     "metadata": {},
     "output_type": "execute_result"
    }
   ],
   "source": [
    "tuple(map(lambda r:r*r,s))"
   ]
  },
  {
   "cell_type": "code",
   "execution_count": 82,
   "id": "7a7c8f0a-72f7-4268-9fd1-23f0e5a15789",
   "metadata": {},
   "outputs": [
    {
     "data": {
      "text/plain": [
       "'<map object at 0x0000019A4E1B85E0>'"
      ]
     },
     "execution_count": 82,
     "metadata": {},
     "output_type": "execute_result"
    }
   ],
   "source": [
    "str(map(lambda r:r*r,s))"
   ]
  },
  {
   "cell_type": "code",
   "execution_count": 18,
   "id": "c5bfe426-f922-49ef-8cfa-fd6f83b81bb6",
   "metadata": {},
   "outputs": [
    {
     "data": {
      "text/plain": [
       "[4, 6, 8, 10]"
      ]
     },
     "execution_count": 18,
     "metadata": {},
     "output_type": "execute_result"
    }
   ],
   "source": [
    "\n",
    "#Using external function \n",
    "def test(m,n):\n",
    "    return m*n\n",
    "\n",
    "from functools import *\n",
    "l=[47,11,42,13]\n",
    "k = [2,4,6,8,]\n",
    "list(map(lambda s:s+2,k))"
   ]
  },
  {
   "cell_type": "code",
   "execution_count": 3,
   "id": "942266f7-189d-4ac6-9349-14259349a3ed",
   "metadata": {},
   "outputs": [
    {
     "data": {
      "text/plain": [
       "55"
      ]
     },
     "execution_count": 3,
     "metadata": {},
     "output_type": "execute_result"
    }
   ],
   "source": [
    "test(10,45)"
   ]
  },
  {
   "cell_type": "code",
   "execution_count": 19,
   "id": "689f2bac-3f1e-48f9-a055-0a2b7f08bf24",
   "metadata": {},
   "outputs": [
    {
     "data": {
      "text/plain": [
       "113"
      ]
     },
     "execution_count": 19,
     "metadata": {},
     "output_type": "execute_result"
    }
   ],
   "source": [
    "#Using lambda function\n",
    "from functools import *\n",
    "\n",
    "l=[47,11,42,13]\n",
    "reduce(lambda x,y:x+y,l)"
   ]
  },
  {
   "cell_type": "code",
   "execution_count": 38,
   "id": "5c914772-d49e-40fc-8409-b6f26eaf1d28",
   "metadata": {},
   "outputs": [
    {
     "data": {
      "text/plain": [
       "9193338"
      ]
     },
     "execution_count": 38,
     "metadata": {},
     "output_type": "execute_result"
    }
   ],
   "source": [
    "# Ex2: find the max in the given list\n",
    "l=[3,11,42,67,99]\n",
    "reduce(lambda a,b: a*b, l)"
   ]
  },
  {
   "cell_type": "code",
   "execution_count": null,
   "id": "1dcf7c56-d062-47dc-8020-7fe4342d7ef1",
   "metadata": {},
   "outputs": [],
   "source": [
    "#reduce will produce a single unit\n",
    "def cust_reduce(func, my_list):\n",
    "    \n",
    "    #get first item in sequence and assign to result\n",
    "    result = my_list[0]\n",
    "    \n",
    "    # iterate over remaining items in sequence and apply reduction function\n",
    "    for i in my_list[1:]:\n",
    "        result = func(result,i)\n",
    "    return result"
   ]
  },
  {
   "cell_type": "code",
   "execution_count": 47,
   "id": "1e444009-419a-4083-86b0-0b7577351a41",
   "metadata": {},
   "outputs": [
    {
     "ename": "IndentationError",
     "evalue": "unexpected indent (456380550.py, line 4)",
     "output_type": "error",
     "traceback": [
      "\u001b[1;36m  Cell \u001b[1;32mIn[47], line 4\u001b[1;36m\u001b[0m\n\u001b[1;33m    def add(s,d):\u001b[0m\n\u001b[1;37m    ^\u001b[0m\n\u001b[1;31mIndentationError\u001b[0m\u001b[1;31m:\u001b[0m unexpected indent\n"
     ]
    }
   ],
   "source": [
    "lis=[1,3,4,56]\n",
    "lis[1:]\n",
    "\n",
    " def add(s,d):\n",
    "     s*d\n",
    "         \n"
   ]
  },
  {
   "cell_type": "code",
   "execution_count": 63,
   "id": "53f43fa5-83c7-4d00-b284-156864c9e37e",
   "metadata": {},
   "outputs": [
    {
     "ename": "SyntaxError",
     "evalue": "invalid syntax (2037797806.py, line 1)",
     "output_type": "error",
     "traceback": [
      "\u001b[1;36m  Cell \u001b[1;32mIn[63], line 1\u001b[1;36m\u001b[0m\n\u001b[1;33m    def (s,d):\u001b[0m\n\u001b[1;37m        ^\u001b[0m\n\u001b[1;31mSyntaxError\u001b[0m\u001b[1;31m:\u001b[0m invalid syntax\n"
     ]
    }
   ],
   "source": [
    "def (s,d):\n",
    "    return s*d\n",
    "    \n",
    "\n",
    "add(3,6)\n",
    "lis\n",
    "\n",
    "def myreduce(fun,list):\n",
    "    x = list[0]\n",
    "    for i in addlist[1:]:\n",
    "        x=fun(x,i)\n",
    "    return x    \n",
    "\n",
    "\n",
    "\n",
    "    \n"
   ]
  },
  {
   "cell_type": "code",
   "execution_count": 69,
   "id": "8352f178-6e0a-40d0-a055-aba215f6eb4c",
   "metadata": {},
   "outputs": [
    {
     "data": {
      "text/plain": [
       "64"
      ]
     },
     "execution_count": 69,
     "metadata": {},
     "output_type": "execute_result"
    }
   ],
   "source": [
    "myreduce(lambda a,b:a+b,lis)"
   ]
  },
  {
   "cell_type": "code",
   "execution_count": 68,
   "id": "beb15e60-4afa-4987-a3da-90c872693f40",
   "metadata": {},
   "outputs": [
    {
     "data": {
      "text/plain": [
       "64"
      ]
     },
     "execution_count": 68,
     "metadata": {},
     "output_type": "execute_result"
    }
   ],
   "source": [
    "reduce(lambda a,b:a+b,lis)"
   ]
  },
  {
   "cell_type": "code",
   "execution_count": 85,
   "id": "02fb0e82-8ed0-44a3-927d-83243906375f",
   "metadata": {},
   "outputs": [
    {
     "data": {
      "text/plain": [
       "[1, 2, 3, 4, 5, 6, 7, 8, 9, 766, 544, 77]"
      ]
     },
     "execution_count": 85,
     "metadata": {},
     "output_type": "execute_result"
    }
   ],
   "source": [
    "p=[1,2,3,4,5,6,7,8,9,766,544,77]\n",
    "p"
   ]
  },
  {
   "cell_type": "code",
   "execution_count": 83,
   "id": "87e63030-1c66-4d26-83f1-54f61cc37080",
   "metadata": {},
   "outputs": [],
   "source": [
    "def even(x):\n",
    "    if x%2==0:\n",
    "       return x\n",
    "    \n",
    "    "
   ]
  },
  {
   "cell_type": "code",
   "execution_count": 74,
   "id": "51b0e1b5-4897-4cdc-b35f-728366414329",
   "metadata": {},
   "outputs": [
    {
     "name": "stdout",
     "output_type": "stream",
     "text": [
      "is odd\n"
     ]
    }
   ],
   "source": [
    "even(3)"
   ]
  },
  {
   "cell_type": "code",
   "execution_count": 86,
   "id": "33c07ab9-7688-4d9c-92f3-85c02fea9180",
   "metadata": {},
   "outputs": [
    {
     "data": {
      "text/plain": [
       "[2, 4, 6, 8, 766, 544]"
      ]
     },
     "execution_count": 86,
     "metadata": {},
     "output_type": "execute_result"
    }
   ],
   "source": [
    "list(filter(even,p))"
   ]
  },
  {
   "cell_type": "code",
   "execution_count": 87,
   "id": "36e670e8-e3b5-4cd8-be61-f678d968b681",
   "metadata": {},
   "outputs": [],
   "source": [
    "even(3)"
   ]
  },
  {
   "cell_type": "code",
   "execution_count": null,
   "id": "8cd0250d-0e57-4ea1-a99c-3d37609acee5",
   "metadata": {},
   "outputs": [],
   "source": []
  },
  {
   "cell_type": "code",
   "execution_count": 88,
   "id": "169dc582-2ff1-4a4d-b50f-25b814579578",
   "metadata": {},
   "outputs": [
    {
     "name": "stdout",
     "output_type": "stream",
     "text": [
      "[2, 4, 6, 8, 10]\n",
      "[1, 3, 5, 7, 9]\n"
     ]
    }
   ],
   "source": [
    "l=[1,2,3,4,5,6,7,8,9,10]                                    #list of squence\n",
    "l1 = list(filter(lambda x:x%2==0,l))\n",
    "print(l1)\n",
    "\n",
    "l2 = list(filter(lambda x:x%2!=0,l))\n",
    "print(l2)"
   ]
  },
  {
   "cell_type": "code",
   "execution_count": 89,
   "id": "4d3418d6-8910-4fd5-a172-e770b6e9a580",
   "metadata": {},
   "outputs": [
    {
     "data": {
      "text/plain": [
       "(2, 4, 6, 8, 10)"
      ]
     },
     "execution_count": 89,
     "metadata": {},
     "output_type": "execute_result"
    }
   ],
   "source": [
    "l=[1,2,3,4,5,6,7,8,9,10]\n",
    "tuple(filter(lambda x:x%2==0,l))"
   ]
  },
  {
   "cell_type": "code",
   "execution_count": 90,
   "id": "c6699fa1-e764-473d-959f-89bc57023eca",
   "metadata": {},
   "outputs": [
    {
     "data": {
      "text/plain": [
       "{2, 4, 6, 8, 10}"
      ]
     },
     "execution_count": 90,
     "metadata": {},
     "output_type": "execute_result"
    }
   ],
   "source": [
    "l=[1,2,3,4,5,6,7,8,9,10]\n",
    "set(filter(lambda x:x%2==0,l))"
   ]
  },
  {
   "cell_type": "code",
   "execution_count": 91,
   "id": "5a3d2f04-b5d3-4036-bf1e-aa604eca16b1",
   "metadata": {},
   "outputs": [
    {
     "data": {
      "text/plain": [
       "'<filter object at 0x00000235C02DFAC0>'"
      ]
     },
     "execution_count": 91,
     "metadata": {},
     "output_type": "execute_result"
    }
   ],
   "source": [
    "l=[1,2,3,4,5,6,7,8,9,10]\n",
    "str(filter(lambda x:x%2==0,l))"
   ]
  },
  {
   "cell_type": "code",
   "execution_count": 92,
   "id": "d3d209ee-3bd7-4ff3-80a0-274c706634e5",
   "metadata": {},
   "outputs": [
    {
     "data": {
      "text/plain": [
       "(2, 4, 6, 8, 10)"
      ]
     },
     "execution_count": 92,
     "metadata": {},
     "output_type": "execute_result"
    }
   ],
   "source": [
    "#tuple\n",
    "t=(1,2,3,4,5,6,7,8,9,10)\n",
    "tuple(filter(lambda x:x%2==0,t))"
   ]
  },
  {
   "cell_type": "code",
   "execution_count": 93,
   "id": "10b89030-b38a-4e54-855d-ae4625a85aba",
   "metadata": {},
   "outputs": [
    {
     "data": {
      "text/plain": [
       "[2, 4, 6, 8, 10]"
      ]
     },
     "execution_count": 93,
     "metadata": {},
     "output_type": "execute_result"
    }
   ],
   "source": [
    "t=(1,2,3,4,5,6,7,8,9,10)\n",
    "list(filter(lambda x:x%2==0,t))"
   ]
  },
  {
   "cell_type": "code",
   "execution_count": 94,
   "id": "90e27f25-ac15-4c40-b00e-bbf8902129dc",
   "metadata": {},
   "outputs": [
    {
     "data": {
      "text/plain": [
       "{2, 4, 6, 8, 10}"
      ]
     },
     "execution_count": 94,
     "metadata": {},
     "output_type": "execute_result"
    }
   ],
   "source": [
    "t=(1,2,3,4,5,6,7,8,9,10)\n",
    "set(filter(lambda x:x%2==0,t))"
   ]
  },
  {
   "cell_type": "code",
   "execution_count": 95,
   "id": "2ca57382-4565-4d72-9e22-9928511ee85f",
   "metadata": {},
   "outputs": [
    {
     "data": {
      "text/plain": [
       "'<filter object at 0x00000235C02DF670>'"
      ]
     },
     "execution_count": 95,
     "metadata": {},
     "output_type": "execute_result"
    }
   ],
   "source": [
    "t=(1,2,3,4,5,6,7,8,9,10)\n",
    "str(filter(lambda x:x%2==0,t))"
   ]
  },
  {
   "cell_type": "code",
   "execution_count": 96,
   "id": "594763e8-8636-416c-aa69-c895e50609d5",
   "metadata": {},
   "outputs": [
    {
     "data": {
      "text/plain": [
       "[2, 4, 6, 8, 10]"
      ]
     },
     "execution_count": 96,
     "metadata": {},
     "output_type": "execute_result"
    }
   ],
   "source": [
    "# set squence\n",
    "s={1,2,3,4,5,6,7,8,9,10}\n",
    "list(filter(lambda x:x%2==0,s))"
   ]
  },
  {
   "cell_type": "code",
   "execution_count": 97,
   "id": "81b47ee7-2d96-44a5-868f-e33ee67ceadf",
   "metadata": {},
   "outputs": [
    {
     "data": {
      "text/plain": [
       "(2, 4, 6, 8, 10)"
      ]
     },
     "execution_count": 97,
     "metadata": {},
     "output_type": "execute_result"
    }
   ],
   "source": [
    "s={1,2,3,4,5,6,7,8,9,10}\n",
    "tuple(filter(lambda x:x%2==0,s))"
   ]
  },
  {
   "cell_type": "code",
   "execution_count": 98,
   "id": "0cc59fab-fe0a-47f1-b9c5-cc3c90a90cf8",
   "metadata": {},
   "outputs": [
    {
     "data": {
      "text/plain": [
       "{2, 4, 6, 8, 10}"
      ]
     },
     "execution_count": 98,
     "metadata": {},
     "output_type": "execute_result"
    }
   ],
   "source": [
    "s={1,2,3,4,5,6,7,8,9,10}\n",
    "set(filter(lambda x:x%2==0,s))"
   ]
  },
  {
   "cell_type": "code",
   "execution_count": 99,
   "id": "555db69b-77ef-4bd5-9685-da3d2f0ade3c",
   "metadata": {},
   "outputs": [
    {
     "data": {
      "text/plain": [
       "'<filter object at 0x00000235C02DF580>'"
      ]
     },
     "execution_count": 99,
     "metadata": {},
     "output_type": "execute_result"
    }
   ],
   "source": [
    "s={1,2,3,4,5,6,7,8,9,10}\n",
    "str(filter(lambda x:x%2==0,s))"
   ]
  },
  {
   "cell_type": "code",
   "execution_count": null,
   "id": "d294bee7-03ff-4879-b728-e4a39d37fa47",
   "metadata": {},
   "outputs": [],
   "source": []
  }
 ],
 "metadata": {
  "kernelspec": {
   "display_name": "Python 3 (ipykernel)",
   "language": "python",
   "name": "python3"
  },
  "language_info": {
   "codemirror_mode": {
    "name": "ipython",
    "version": 3
   },
   "file_extension": ".py",
   "mimetype": "text/x-python",
   "name": "python",
   "nbconvert_exporter": "python",
   "pygments_lexer": "ipython3",
   "version": "3.11.5"
  }
 },
 "nbformat": 4,
 "nbformat_minor": 5
}
